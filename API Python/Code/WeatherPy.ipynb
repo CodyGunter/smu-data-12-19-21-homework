{
 "cells": [
  {
   "cell_type": "markdown",
   "metadata": {},
   "source": [
    "# WeatherPy\n",
    "----\n",
    "\n",
    "#### Note\n",
    "* Instructions have been included for each segment. You do not have to follow them exactly, but they are included to help you think through the steps."
   ]
  },
  {
   "cell_type": "code",
   "execution_count": 1,
   "metadata": {
    "scrolled": true
   },
   "outputs": [],
   "source": [
    "# Dependencies and Setup\n",
    "import matplotlib.pyplot as plt\n",
    "import pandas as pd\n",
    "import numpy as np\n",
    "import requests\n",
    "import time\n",
    "import seaborn as sns\n",
    "from pprint import pprint\n",
    "from scipy.stats import linregress\n",
    "from sklearn import datasets\n",
    "\n",
    "# Import API key\n",
    "from api_keys import weather_api_key\n",
    "\n",
    "# Incorporated citipy to determine city based on latitude and longitude\n",
    "from citipy import citipy\n",
    "\n",
    "# Output File (CSV)\n",
    "output_data_file = \"output_data/cities.csv\"\n",
    "\n",
    "# Range of latitudes and longitudes\n",
    "lat_range = (-90, 90)\n",
    "lng_range = (-180, 180)"
   ]
  },
  {
   "cell_type": "markdown",
   "metadata": {},
   "source": [
    "## Generate Cities List"
   ]
  },
  {
   "cell_type": "code",
   "execution_count": 2,
   "metadata": {},
   "outputs": [
    {
     "data": {
      "text/plain": [
       "630"
      ]
     },
     "execution_count": 2,
     "metadata": {},
     "output_type": "execute_result"
    }
   ],
   "source": [
    "# List for holding lat_lngs and cities\n",
    "lat_lngs = []\n",
    "cities = []\n",
    "\n",
    "# Create a set of random lat and lng combinations\n",
    "lats = np.random.uniform(lat_range[0], lat_range[1], size=1500)\n",
    "lngs = np.random.uniform(lng_range[0], lng_range[1], size=1500)\n",
    "lat_lngs = zip(lats, lngs)\n",
    "\n",
    "# Identify nearest city for each lat, lng combination\n",
    "for lat_lng in lat_lngs:\n",
    "    city = citipy.nearest_city(lat_lng[0], lat_lng[1]).city_name\n",
    "    \n",
    "    # If the city is unique, then add it to a our cities list\n",
    "    if city not in cities:\n",
    "        cities.append(city)\n",
    "\n",
    "# Print the city count to confirm sufficient count\n",
    "len(cities)"
   ]
  },
  {
   "cell_type": "markdown",
   "metadata": {},
   "source": [
    "### Perform API Calls\n",
    "* Perform a weather check on each city using a series of successive API calls.\n",
    "* Include a print log of each city as it'sbeing processed (with the city number and city name).\n",
    "\n",
    "> **HINT:** The OpenWeatherMap API only allows 60 calls per minute under their free plan. Try using `time.sleep(60)` after each set of 50 cities to avoid API errors due to large calls."
   ]
  },
  {
   "cell_type": "code",
   "execution_count": 3,
   "metadata": {},
   "outputs": [
    {
     "data": {
      "text/plain": [
       "['tasiilaq', 'vaini', 'rafaela', 'alice springs']"
      ]
     },
     "execution_count": 3,
     "metadata": {},
     "output_type": "execute_result"
    }
   ],
   "source": [
    "cities[0:4]"
   ]
  },
  {
   "cell_type": "code",
   "execution_count": 4,
   "metadata": {},
   "outputs": [],
   "source": [
    "url = \"http://api.openweathermap.org/data/2.5/weather?\"\n",
    "units = \"metric\""
   ]
  },
  {
   "cell_type": "code",
   "execution_count": 5,
   "metadata": {},
   "outputs": [
    {
     "name": "stdout",
     "output_type": "stream",
     "text": [
      "200\n"
     ]
    }
   ],
   "source": [
    "city = \"rikitea\"\n",
    "query_url = f\"{url}appid={weather_api_key}&q={city}&units={units}\"\n",
    "\n",
    "# Get weather data\n",
    "weather_response = requests.get(query_url)\n",
    "print(weather_response.status_code)\n",
    "weather_json = weather_response.json()"
   ]
  },
  {
   "cell_type": "code",
   "execution_count": 6,
   "metadata": {},
   "outputs": [
    {
     "name": "stdout",
     "output_type": "stream",
     "text": [
      "{'base': 'stations',\n",
      " 'clouds': {'all': 100},\n",
      " 'cod': 200,\n",
      " 'coord': {'lat': -23.1203, 'lon': -134.9692},\n",
      " 'dt': 1647457665,\n",
      " 'id': 4030556,\n",
      " 'main': {'feels_like': 26.55,\n",
      "          'grnd_level': 1009,\n",
      "          'humidity': 81,\n",
      "          'pressure': 1012,\n",
      "          'sea_level': 1012,\n",
      "          'temp': 26.55,\n",
      "          'temp_max': 26.55,\n",
      "          'temp_min': 26.55},\n",
      " 'name': 'Rikitea',\n",
      " 'rain': {'1h': 0.4},\n",
      " 'sys': {'country': 'PF', 'sunrise': 1647442927, 'sunset': 1647486892},\n",
      " 'timezone': -32400,\n",
      " 'visibility': 10000,\n",
      " 'weather': [{'description': 'light rain',\n",
      "              'icon': '10d',\n",
      "              'id': 500,\n",
      "              'main': 'Rain'}],\n",
      " 'wind': {'deg': 310, 'gust': 11.97, 'speed': 10.65}}\n"
     ]
    }
   ],
   "source": [
    "pprint(weather_json)"
   ]
  },
  {
   "cell_type": "code",
   "execution_count": 7,
   "metadata": {},
   "outputs": [
    {
     "data": {
      "text/plain": [
       "dict"
      ]
     },
     "execution_count": 7,
     "metadata": {},
     "output_type": "execute_result"
    }
   ],
   "source": [
    "type(weather_json)"
   ]
  },
  {
   "cell_type": "code",
   "execution_count": 8,
   "metadata": {},
   "outputs": [
    {
     "data": {
      "text/html": [
       "<div>\n",
       "<style scoped>\n",
       "    .dataframe tbody tr th:only-of-type {\n",
       "        vertical-align: middle;\n",
       "    }\n",
       "\n",
       "    .dataframe tbody tr th {\n",
       "        vertical-align: top;\n",
       "    }\n",
       "\n",
       "    .dataframe thead th {\n",
       "        text-align: right;\n",
       "    }\n",
       "</style>\n",
       "<table border=\"1\" class=\"dataframe\">\n",
       "  <thead>\n",
       "    <tr style=\"text-align: right;\">\n",
       "      <th></th>\n",
       "      <th>city</th>\n",
       "      <th>latitude</th>\n",
       "      <th>longitude</th>\n",
       "      <th>Country</th>\n",
       "      <th>Temperature</th>\n",
       "      <th>Humidity</th>\n",
       "      <th>Cloud Level</th>\n",
       "      <th>Wind Speed</th>\n",
       "      <th>Air Pressure</th>\n",
       "      <th>Date</th>\n",
       "    </tr>\n",
       "  </thead>\n",
       "  <tbody>\n",
       "    <tr>\n",
       "      <th>0</th>\n",
       "      <td>Tasiilaq</td>\n",
       "      <td>65.6145</td>\n",
       "      <td>-37.6368</td>\n",
       "      <td>GL</td>\n",
       "      <td>-4.91</td>\n",
       "      <td>92.0</td>\n",
       "      <td>100.0</td>\n",
       "      <td>3.41</td>\n",
       "      <td>975.0</td>\n",
       "      <td>1.647458e+09</td>\n",
       "    </tr>\n",
       "    <tr>\n",
       "      <th>1</th>\n",
       "      <td>Vaini</td>\n",
       "      <td>-21.2000</td>\n",
       "      <td>-175.2000</td>\n",
       "      <td>TO</td>\n",
       "      <td>24.09</td>\n",
       "      <td>100.0</td>\n",
       "      <td>100.0</td>\n",
       "      <td>1.54</td>\n",
       "      <td>1013.0</td>\n",
       "      <td>1.647458e+09</td>\n",
       "    </tr>\n",
       "    <tr>\n",
       "      <th>2</th>\n",
       "      <td>Rafaela</td>\n",
       "      <td>-31.2503</td>\n",
       "      <td>-61.4867</td>\n",
       "      <td>AR</td>\n",
       "      <td>29.99</td>\n",
       "      <td>31.0</td>\n",
       "      <td>0.0</td>\n",
       "      <td>2.24</td>\n",
       "      <td>1009.0</td>\n",
       "      <td>1.647458e+09</td>\n",
       "    </tr>\n",
       "    <tr>\n",
       "      <th>3</th>\n",
       "      <td>Alice Springs</td>\n",
       "      <td>-23.7000</td>\n",
       "      <td>133.8833</td>\n",
       "      <td>AU</td>\n",
       "      <td>26.75</td>\n",
       "      <td>32.0</td>\n",
       "      <td>41.0</td>\n",
       "      <td>2.57</td>\n",
       "      <td>1011.0</td>\n",
       "      <td>1.647458e+09</td>\n",
       "    </tr>\n",
       "    <tr>\n",
       "      <th>4</th>\n",
       "      <td>Sidi Ali</td>\n",
       "      <td>36.0998</td>\n",
       "      <td>0.4206</td>\n",
       "      <td>DZ</td>\n",
       "      <td>11.14</td>\n",
       "      <td>81.0</td>\n",
       "      <td>100.0</td>\n",
       "      <td>2.87</td>\n",
       "      <td>1011.0</td>\n",
       "      <td>1.647458e+09</td>\n",
       "    </tr>\n",
       "  </tbody>\n",
       "</table>\n",
       "</div>"
      ],
      "text/plain": [
       "            city  latitude  longitude Country  Temperature  Humidity  \\\n",
       "0       Tasiilaq   65.6145   -37.6368      GL        -4.91      92.0   \n",
       "1          Vaini  -21.2000  -175.2000      TO        24.09     100.0   \n",
       "2        Rafaela  -31.2503   -61.4867      AR        29.99      31.0   \n",
       "3  Alice Springs  -23.7000   133.8833      AU        26.75      32.0   \n",
       "4       Sidi Ali   36.0998     0.4206      DZ        11.14      81.0   \n",
       "\n",
       "   Cloud Level  Wind Speed  Air Pressure          Date  \n",
       "0        100.0        3.41         975.0  1.647458e+09  \n",
       "1        100.0        1.54        1013.0  1.647458e+09  \n",
       "2          0.0        2.24        1009.0  1.647458e+09  \n",
       "3         41.0        2.57        1011.0  1.647458e+09  \n",
       "4        100.0        2.87        1011.0  1.647458e+09  "
      ]
     },
     "execution_count": 8,
     "metadata": {},
     "output_type": "execute_result"
    }
   ],
   "source": [
    "lats = []\n",
    "lngs = []\n",
    "countries = []\n",
    "clouds = []\n",
    "names =[]\n",
    "winds = []\n",
    "temps = []\n",
    "pressures = []\n",
    "humids = []\n",
    "dates = []\n",
    "\n",
    "for city in cities:\n",
    "    \n",
    "    \n",
    "    query_url = f\"{url}appid={weather_api_key}&q={city}&units={units}\"\n",
    "\n",
    "    # Get weather data\n",
    "    weather_response = requests.get(query_url)\n",
    "    \n",
    "    \n",
    "    try:\n",
    "    \n",
    "    \n",
    "    # get data\n",
    "        weather_json = weather_response.json()\n",
    "\n",
    "        lat = weather_json[\"coord\"][\"lat\"]\n",
    "        lon = weather_json[\"coord\"][\"lon\"]\n",
    "        country = weather_json[\"sys\"][\"country\"]\n",
    "        cloud = weather_json[\"clouds\"]['all']\n",
    "        name = weather_json[\"name\"]\n",
    "        wind = weather_json['wind']['speed']\n",
    "        temp = weather_json[\"main\"][\"temp\"]\n",
    "        pressure = weather_json[\"main\"][\"pressure\"]\n",
    "        humidity = weather_json[\"main\"]['humidity']\n",
    "        dt = weather_json[\"dt\"]\n",
    "    \n",
    "        lats.append(lat)\n",
    "        lngs.append(lon)\n",
    "        countries.append(country)\n",
    "        clouds.append(cloud)\n",
    "        dates.append(dt)\n",
    "        names.append(name)\n",
    "        winds.append(wind)\n",
    "        temps.append(temp)\n",
    "        pressures.append(pressure)\n",
    "        humids.append(humidity)\n",
    "\n",
    "# (Needed reference for the exception) https://smu.bootcampcontent.com/SMU-Coding-Bootcamp/SMU-DAL-VIRT-DATA-PT-12-2021-U-C/-/blob/main/02-Homework/06-Python-APIs/Instructions/starter_code/WeatherPy-Booth.ipynb\n",
    "    except Exception as e:\n",
    "        \n",
    "        \n",
    "        lats.append(np.nan)\n",
    "        lngs.append(np.nan)\n",
    "        countries.append(np.nan)\n",
    "        clouds.append(np.nan)\n",
    "        dates.append(np.nan)\n",
    "        names.append(city)\n",
    "        winds.append(np.nan)\n",
    "        temps.append(np.nan)\n",
    "        pressures.append(np.nan)\n",
    "        humids.append(np.nan)\n",
    "          \n",
    "    time.sleep(1)\n",
    "        \n",
    "        \n",
    "df = pd.DataFrame()\n",
    "df[\"city\"] = names\n",
    "df[\"latitude\"] = lats\n",
    "df[\"longitude\"] = lngs\n",
    "df['Country'] = countries\n",
    "df['Temperature'] = temps\n",
    "df['Humidity'] = humids\n",
    "df[\"Cloud Level\"] = clouds\n",
    "df[\"Wind Speed\"] = winds\n",
    "df[\"Air Pressure\"] = pressures\n",
    "df[\"Date\"] = dates\n",
    "df.head()"
   ]
  },
  {
   "cell_type": "code",
   "execution_count": 9,
   "metadata": {},
   "outputs": [],
   "source": [
    "df.to_csv(\"my_weather.csv\", index=False)"
   ]
  },
  {
   "cell_type": "markdown",
   "metadata": {},
   "source": [
    "### Convert Raw Data to DataFrame\n",
    "* Export the city data into a .csv.\n",
    "* Display the DataFrame"
   ]
  },
  {
   "cell_type": "code",
   "execution_count": 12,
   "metadata": {},
   "outputs": [],
   "source": [
    "output_data_file2 = \"../code/my_weather.csv\""
   ]
  },
  {
   "cell_type": "code",
   "execution_count": 13,
   "metadata": {},
   "outputs": [
    {
     "data": {
      "text/html": [
       "<div>\n",
       "<style scoped>\n",
       "    .dataframe tbody tr th:only-of-type {\n",
       "        vertical-align: middle;\n",
       "    }\n",
       "\n",
       "    .dataframe tbody tr th {\n",
       "        vertical-align: top;\n",
       "    }\n",
       "\n",
       "    .dataframe thead th {\n",
       "        text-align: right;\n",
       "    }\n",
       "</style>\n",
       "<table border=\"1\" class=\"dataframe\">\n",
       "  <thead>\n",
       "    <tr style=\"text-align: right;\">\n",
       "      <th></th>\n",
       "      <th>city</th>\n",
       "      <th>latitude</th>\n",
       "      <th>longitude</th>\n",
       "      <th>Country</th>\n",
       "      <th>Temperature</th>\n",
       "      <th>Humidity</th>\n",
       "      <th>Cloud Level</th>\n",
       "      <th>Wind Speed</th>\n",
       "      <th>Air Pressure</th>\n",
       "      <th>Date</th>\n",
       "    </tr>\n",
       "  </thead>\n",
       "  <tbody>\n",
       "    <tr>\n",
       "      <th>0</th>\n",
       "      <td>Tasiilaq</td>\n",
       "      <td>65.6145</td>\n",
       "      <td>-37.6368</td>\n",
       "      <td>GL</td>\n",
       "      <td>-4.91</td>\n",
       "      <td>92.0</td>\n",
       "      <td>100.0</td>\n",
       "      <td>3.41</td>\n",
       "      <td>975.0</td>\n",
       "      <td>1.647458e+09</td>\n",
       "    </tr>\n",
       "    <tr>\n",
       "      <th>1</th>\n",
       "      <td>Vaini</td>\n",
       "      <td>-21.2000</td>\n",
       "      <td>-175.2000</td>\n",
       "      <td>TO</td>\n",
       "      <td>24.09</td>\n",
       "      <td>100.0</td>\n",
       "      <td>100.0</td>\n",
       "      <td>1.54</td>\n",
       "      <td>1013.0</td>\n",
       "      <td>1.647458e+09</td>\n",
       "    </tr>\n",
       "    <tr>\n",
       "      <th>2</th>\n",
       "      <td>Rafaela</td>\n",
       "      <td>-31.2503</td>\n",
       "      <td>-61.4867</td>\n",
       "      <td>AR</td>\n",
       "      <td>29.99</td>\n",
       "      <td>31.0</td>\n",
       "      <td>0.0</td>\n",
       "      <td>2.24</td>\n",
       "      <td>1009.0</td>\n",
       "      <td>1.647458e+09</td>\n",
       "    </tr>\n",
       "    <tr>\n",
       "      <th>3</th>\n",
       "      <td>Alice Springs</td>\n",
       "      <td>-23.7000</td>\n",
       "      <td>133.8833</td>\n",
       "      <td>AU</td>\n",
       "      <td>26.75</td>\n",
       "      <td>32.0</td>\n",
       "      <td>41.0</td>\n",
       "      <td>2.57</td>\n",
       "      <td>1011.0</td>\n",
       "      <td>1.647458e+09</td>\n",
       "    </tr>\n",
       "    <tr>\n",
       "      <th>4</th>\n",
       "      <td>Sidi Ali</td>\n",
       "      <td>36.0998</td>\n",
       "      <td>0.4206</td>\n",
       "      <td>DZ</td>\n",
       "      <td>11.14</td>\n",
       "      <td>81.0</td>\n",
       "      <td>100.0</td>\n",
       "      <td>2.87</td>\n",
       "      <td>1011.0</td>\n",
       "      <td>1.647458e+09</td>\n",
       "    </tr>\n",
       "  </tbody>\n",
       "</table>\n",
       "</div>"
      ],
      "text/plain": [
       "            city  latitude  longitude Country  Temperature  Humidity  \\\n",
       "0       Tasiilaq   65.6145   -37.6368      GL        -4.91      92.0   \n",
       "1          Vaini  -21.2000  -175.2000      TO        24.09     100.0   \n",
       "2        Rafaela  -31.2503   -61.4867      AR        29.99      31.0   \n",
       "3  Alice Springs  -23.7000   133.8833      AU        26.75      32.0   \n",
       "4       Sidi Ali   36.0998     0.4206      DZ        11.14      81.0   \n",
       "\n",
       "   Cloud Level  Wind Speed  Air Pressure          Date  \n",
       "0        100.0        3.41         975.0  1.647458e+09  \n",
       "1        100.0        1.54        1013.0  1.647458e+09  \n",
       "2          0.0        2.24        1009.0  1.647458e+09  \n",
       "3         41.0        2.57        1011.0  1.647458e+09  \n",
       "4        100.0        2.87        1011.0  1.647458e+09  "
      ]
     },
     "execution_count": 13,
     "metadata": {},
     "output_type": "execute_result"
    }
   ],
   "source": [
    "df6 = pd.read_csv(output_data_file2)\n",
    "df6.head()"
   ]
  },
  {
   "cell_type": "code",
   "execution_count": 14,
   "metadata": {},
   "outputs": [
    {
     "name": "stdout",
     "output_type": "stream",
     "text": [
      "<class 'pandas.core.frame.DataFrame'>\n",
      "RangeIndex: 630 entries, 0 to 629\n",
      "Data columns (total 10 columns):\n",
      " #   Column        Non-Null Count  Dtype  \n",
      "---  ------        --------------  -----  \n",
      " 0   city          630 non-null    object \n",
      " 1   latitude      570 non-null    float64\n",
      " 2   longitude     570 non-null    float64\n",
      " 3   Country       565 non-null    object \n",
      " 4   Temperature   570 non-null    float64\n",
      " 5   Humidity      570 non-null    float64\n",
      " 6   Cloud Level   570 non-null    float64\n",
      " 7   Wind Speed    570 non-null    float64\n",
      " 8   Air Pressure  570 non-null    float64\n",
      " 9   Date          570 non-null    float64\n",
      "dtypes: float64(8), object(2)\n",
      "memory usage: 49.3+ KB\n"
     ]
    }
   ],
   "source": [
    "df6.info()"
   ]
  },
  {
   "cell_type": "code",
   "execution_count": 15,
   "metadata": {},
   "outputs": [
    {
     "name": "stdout",
     "output_type": "stream",
     "text": [
      "<class 'pandas.core.frame.DataFrame'>\n",
      "Int64Index: 570 entries, 0 to 629\n",
      "Data columns (total 10 columns):\n",
      " #   Column        Non-Null Count  Dtype  \n",
      "---  ------        --------------  -----  \n",
      " 0   city          570 non-null    object \n",
      " 1   latitude      570 non-null    float64\n",
      " 2   longitude     570 non-null    float64\n",
      " 3   Country       565 non-null    object \n",
      " 4   Temperature   570 non-null    float64\n",
      " 5   Humidity      570 non-null    float64\n",
      " 6   Cloud Level   570 non-null    float64\n",
      " 7   Wind Speed    570 non-null    float64\n",
      " 8   Air Pressure  570 non-null    float64\n",
      " 9   Date          570 non-null    float64\n",
      "dtypes: float64(8), object(2)\n",
      "memory usage: 49.0+ KB\n"
     ]
    }
   ],
   "source": [
    "mask = df6.latitude >= -90\n",
    "clean_df = df6.loc[mask]\n",
    "clean_df.info()"
   ]
  },
  {
   "cell_type": "code",
   "execution_count": 16,
   "metadata": {},
   "outputs": [
    {
     "data": {
      "text/html": [
       "<div>\n",
       "<style scoped>\n",
       "    .dataframe tbody tr th:only-of-type {\n",
       "        vertical-align: middle;\n",
       "    }\n",
       "\n",
       "    .dataframe tbody tr th {\n",
       "        vertical-align: top;\n",
       "    }\n",
       "\n",
       "    .dataframe thead th {\n",
       "        text-align: right;\n",
       "    }\n",
       "</style>\n",
       "<table border=\"1\" class=\"dataframe\">\n",
       "  <thead>\n",
       "    <tr style=\"text-align: right;\">\n",
       "      <th></th>\n",
       "      <th>latitude</th>\n",
       "      <th>longitude</th>\n",
       "      <th>Temperature</th>\n",
       "      <th>Humidity</th>\n",
       "      <th>Cloud Level</th>\n",
       "      <th>Wind Speed</th>\n",
       "      <th>Air Pressure</th>\n",
       "      <th>Date</th>\n",
       "    </tr>\n",
       "  </thead>\n",
       "  <tbody>\n",
       "    <tr>\n",
       "      <th>count</th>\n",
       "      <td>570.000000</td>\n",
       "      <td>570.000000</td>\n",
       "      <td>570.000000</td>\n",
       "      <td>570.000000</td>\n",
       "      <td>570.000000</td>\n",
       "      <td>570.000000</td>\n",
       "      <td>570.000000</td>\n",
       "      <td>5.700000e+02</td>\n",
       "    </tr>\n",
       "    <tr>\n",
       "      <th>mean</th>\n",
       "      <td>18.699642</td>\n",
       "      <td>21.969442</td>\n",
       "      <td>13.387825</td>\n",
       "      <td>71.863158</td>\n",
       "      <td>57.380702</td>\n",
       "      <td>3.620000</td>\n",
       "      <td>1014.750877</td>\n",
       "      <td>1.647458e+09</td>\n",
       "    </tr>\n",
       "    <tr>\n",
       "      <th>std</th>\n",
       "      <td>33.316815</td>\n",
       "      <td>89.683980</td>\n",
       "      <td>15.953389</td>\n",
       "      <td>23.408323</td>\n",
       "      <td>41.401128</td>\n",
       "      <td>2.587919</td>\n",
       "      <td>9.830249</td>\n",
       "      <td>3.378646e+02</td>\n",
       "    </tr>\n",
       "    <tr>\n",
       "      <th>min</th>\n",
       "      <td>-54.800000</td>\n",
       "      <td>-179.166700</td>\n",
       "      <td>-33.180000</td>\n",
       "      <td>1.000000</td>\n",
       "      <td>0.000000</td>\n",
       "      <td>0.000000</td>\n",
       "      <td>975.000000</td>\n",
       "      <td>1.647457e+09</td>\n",
       "    </tr>\n",
       "    <tr>\n",
       "      <th>25%</th>\n",
       "      <td>-7.707050</td>\n",
       "      <td>-54.264150</td>\n",
       "      <td>5.317500</td>\n",
       "      <td>62.000000</td>\n",
       "      <td>11.000000</td>\n",
       "      <td>1.675000</td>\n",
       "      <td>1009.000000</td>\n",
       "      <td>1.647458e+09</td>\n",
       "    </tr>\n",
       "    <tr>\n",
       "      <th>50%</th>\n",
       "      <td>20.925350</td>\n",
       "      <td>25.697350</td>\n",
       "      <td>18.770000</td>\n",
       "      <td>78.000000</td>\n",
       "      <td>74.500000</td>\n",
       "      <td>2.980000</td>\n",
       "      <td>1013.000000</td>\n",
       "      <td>1.647458e+09</td>\n",
       "    </tr>\n",
       "    <tr>\n",
       "      <th>75%</th>\n",
       "      <td>46.583850</td>\n",
       "      <td>100.917150</td>\n",
       "      <td>25.752500</td>\n",
       "      <td>90.000000</td>\n",
       "      <td>100.000000</td>\n",
       "      <td>4.860000</td>\n",
       "      <td>1021.000000</td>\n",
       "      <td>1.647458e+09</td>\n",
       "    </tr>\n",
       "    <tr>\n",
       "      <th>max</th>\n",
       "      <td>78.218600</td>\n",
       "      <td>179.316700</td>\n",
       "      <td>33.860000</td>\n",
       "      <td>100.000000</td>\n",
       "      <td>100.000000</td>\n",
       "      <td>18.010000</td>\n",
       "      <td>1042.000000</td>\n",
       "      <td>1.647459e+09</td>\n",
       "    </tr>\n",
       "  </tbody>\n",
       "</table>\n",
       "</div>"
      ],
      "text/plain": [
       "         latitude   longitude  Temperature    Humidity  Cloud Level  \\\n",
       "count  570.000000  570.000000   570.000000  570.000000   570.000000   \n",
       "mean    18.699642   21.969442    13.387825   71.863158    57.380702   \n",
       "std     33.316815   89.683980    15.953389   23.408323    41.401128   \n",
       "min    -54.800000 -179.166700   -33.180000    1.000000     0.000000   \n",
       "25%     -7.707050  -54.264150     5.317500   62.000000    11.000000   \n",
       "50%     20.925350   25.697350    18.770000   78.000000    74.500000   \n",
       "75%     46.583850  100.917150    25.752500   90.000000   100.000000   \n",
       "max     78.218600  179.316700    33.860000  100.000000   100.000000   \n",
       "\n",
       "       Wind Speed  Air Pressure          Date  \n",
       "count  570.000000    570.000000  5.700000e+02  \n",
       "mean     3.620000   1014.750877  1.647458e+09  \n",
       "std      2.587919      9.830249  3.378646e+02  \n",
       "min      0.000000    975.000000  1.647457e+09  \n",
       "25%      1.675000   1009.000000  1.647458e+09  \n",
       "50%      2.980000   1013.000000  1.647458e+09  \n",
       "75%      4.860000   1021.000000  1.647458e+09  \n",
       "max     18.010000   1042.000000  1.647459e+09  "
      ]
     },
     "execution_count": 16,
     "metadata": {},
     "output_type": "execute_result"
    }
   ],
   "source": [
    "clean_df.describe()"
   ]
  },
  {
   "cell_type": "code",
   "execution_count": 17,
   "metadata": {},
   "outputs": [],
   "source": [
    "clean_df.to_csv(\"my_clean_weather.csv\", index=False)"
   ]
  },
  {
   "cell_type": "markdown",
   "metadata": {},
   "source": [
    "## Inspect the data and remove the cities where the humidity > 100%.\n",
    "----\n",
    "Skip this step if there are no cities that have humidity > 100%. "
   ]
  },
  {
   "cell_type": "markdown",
   "metadata": {},
   "source": [
    "## Plotting the Data\n",
    "* Use proper labeling of the plots using plot titles (including date of analysis) and axes labels.\n",
    "* Save the plotted figures as .pngs."
   ]
  },
  {
   "cell_type": "markdown",
   "metadata": {},
   "source": [
    "## Latitude vs. Temperature Plot"
   ]
  },
  {
   "cell_type": "code",
   "execution_count": 18,
   "metadata": {},
   "outputs": [
    {
     "data": {
      "image/png": "[encoded data removed]",
      "text/plain": [
       "<Figure size 720x432 with 1 Axes>"
      ]
     },
     "metadata": {
      "needs_background": "light"
     },
     "output_type": "display_data"
    }
   ],
   "source": [
    "plt.figure(figsize=(10,6))\n",
    "x_axis = clean_df.latitude\n",
    "y_axis = clean_df.Temperature \n",
    "plt.scatter(x_axis, y_axis)\n",
    "\n",
    "plt.title(\"Temperature Vs Latitude\")\n",
    "plt.xlabel(\"Latitude\")\n",
    "plt.ylabel(\"Temperature\")\n",
    "\n",
    "plt.grid()\n",
    "plt.savefig(\"Fig1.png\", bbox_inches='tight')\n",
    "plt.show()\n"
   ]
  },
  {
   "cell_type": "code",
   "execution_count": null,
   "metadata": {},
   "outputs": [],
   "source": [
    "# This scatter plot displays the cities in the southern hemisphere being warmer than the cities\n",
    "# in the northern hemisphere between 20 and 60 degrees away from the equator as it is currently\n",
    "# the summer season in the southern hemisphere. Also, the cities near the equator are warmer than\n",
    "# those well north of it."
   ]
  },
  {
   "cell_type": "markdown",
   "metadata": {},
   "source": [
    "## Latitude vs. Humidity Plot"
   ]
  },
  {
   "cell_type": "code",
   "execution_count": 22,
   "metadata": {},
   "outputs": [
    {
     "data": {
      "image/png": "[encoded data removed]",
      "text/plain": [
       "<Figure size 720x432 with 1 Axes>"
      ]
     },
     "metadata": {
      "needs_background": "light"
     },
     "output_type": "display_data"
    }
   ],
   "source": [
    "plt.figure(figsize=(10,6))\n",
    "x_axis2 = clean_df.latitude\n",
    "y_axis2 = clean_df.Humidity\n",
    "plt.scatter(x_axis2, y_axis2)\n",
    "\n",
    "plt.title(\"Humidity Vs Latitude\")\n",
    "plt.xlabel(\"Latitude\")\n",
    "plt.ylabel(\"Humidity\")\n",
    "\n",
    "plt.grid()\n",
    "plt.savefig(\"Fig2.png\", bbox_inches = 'tight')\n",
    "plt.show()\n",
    "\n"
   ]
  },
  {
   "cell_type": "code",
   "execution_count": null,
   "metadata": {},
   "outputs": [],
   "source": [
    "# There does not seem to be a correlation betweeb humidity and latitude. The lower humidity measures\n",
    "# do tend to be in the cities just north of the equator, in the ~5 to 40 degree range."
   ]
  },
  {
   "cell_type": "markdown",
   "metadata": {},
   "source": [
    "## Latitude vs. Cloudiness Plot"
   ]
  },
  {
   "cell_type": "code",
   "execution_count": 23,
   "metadata": {},
   "outputs": [
    {
     "data": {
      "image/png": "[encoded data removed]",
      "text/plain": [
       "<Figure size 720x432 with 1 Axes>"
      ]
     },
     "metadata": {
      "needs_background": "light"
     },
     "output_type": "display_data"
    }
   ],
   "source": [
    "plt.figure(figsize=(10,6))\n",
    "x_axis3 = clean_df.latitude\n",
    "y_axis3 = clean_df[\"Cloud Level\"] \n",
    "plt.scatter(x_axis3, y_axis3)\n",
    "\n",
    "plt.title(\"Cloudiness Vs Latitude\")\n",
    "plt.xlabel(\"Latitude\")\n",
    "plt.ylabel(\"Cloud Level\")\n",
    "\n",
    "plt.grid()\n",
    "plt.savefig(\"Fig3.png\", bbox_inches = 'tight')\n",
    "plt.show()\n",
    "\n"
   ]
  },
  {
   "cell_type": "code",
   "execution_count": null,
   "metadata": {},
   "outputs": [],
   "source": [
    "# The cloudiness vs latitude scatter plot doesn't tell us much useful information. The only noticeable observation\n",
    "# I see is the ratio of a 100 cloudiness level compared to 0 cloudiness seems to be larger with the southern\n",
    "# hemipshere cities, having considerably more cloudy cities than clear cities. \n"
   ]
  },
  {
   "cell_type": "markdown",
   "metadata": {},
   "source": [
    "## Latitude vs. Wind Speed Plot"
   ]
  },
  {
   "cell_type": "code",
   "execution_count": 24,
   "metadata": {},
   "outputs": [
    {
     "data": {
      "image/png": "[encoded data removed]",
      "text/plain": [
       "<Figure size 720x432 with 1 Axes>"
      ]
     },
     "metadata": {
      "needs_background": "light"
     },
     "output_type": "display_data"
    }
   ],
   "source": [
    "plt.figure(figsize=(10,6))\n",
    "x_axis4 = clean_df.latitude\n",
    "y_axis4 = clean_df['Wind Speed'] \n",
    "plt.scatter(x_axis4, y_axis4)\n",
    "\n",
    "plt.title(\"Wind Speed Vs Latitude\")\n",
    "plt.xlabel(\"Latitude\")\n",
    "plt.ylabel(\"Wind Speed\")\n",
    "\n",
    "plt.grid()\n",
    "plt.savefig(\"Fig4.png\", bbox_inches = 'tight')\n",
    "plt.show()\n",
    "\n"
   ]
  },
  {
   "cell_type": "code",
   "execution_count": null,
   "metadata": {},
   "outputs": [],
   "source": [
    "# The wind speed holds mostly constant across latitudes, with a few exceptions and outliers in the cities well north \n",
    "# of the equator. Being in the winter season, higher wind speeds is not all that surprising in the much colder regions."
   ]
  },
  {
   "cell_type": "markdown",
   "metadata": {},
   "source": [
    "## Linear Regression"
   ]
  },
  {
   "cell_type": "code",
   "execution_count": null,
   "metadata": {},
   "outputs": [],
   "source": [
    "mask3 = clean_df.latitude > 0 \n",
    "north_df = clean_df.loc[mask3]\n",
    "north_df.info()"
   ]
  },
  {
   "cell_type": "code",
   "execution_count": null,
   "metadata": {},
   "outputs": [],
   "source": [
    "x_axis5 = north_df.latitude\n",
    "y_axis5 = north_df.Temperature \n",
    "plt.scatter(x_axis5, y_axis5)\n",
    "(slope, intercept, rvalue, pvalue, stderr) = linregress(x_axis5, y_axis5)\n",
    "regress_values = x_axis5 * slope + intercept\n",
    "line_eq = \"y = \" + str(round(slope,2)) + \"x + \" + str(round(intercept,2))\n",
    "\n",
    "plt.plot(x_axis5,regress_values,\"r-\")\n",
    "plt.annotate(line_eq,(5,-20),fontsize=15,color=\"red\")\n",
    "plt.xlabel('Latitude')\n",
    "plt.ylabel('Temperature')\n",
    "plt.title(\"Temperature vs Northern Hemisphere Cities\")\n",
    "print(f\"The r-squared is: {rvalue**2}\")\n",
    "plt.savefig(\"regression_north_temp.png\")\n",
    "plt.show()"
   ]
  },
  {
   "cell_type": "code",
   "execution_count": null,
   "metadata": {},
   "outputs": [],
   "source": [
    "# This linear regression displays the temperatures of northern cities decreasing (getting colder) as their distance\n",
    "# from the equator is greater. Being further away from the equator in the winter season means receiving less direct \n",
    "# sunlight, explaining the dcreasing temperatures."
   ]
  },
  {
   "cell_type": "code",
   "execution_count": null,
   "metadata": {},
   "outputs": [],
   "source": [
    "import statsmodels.api as sm"
   ]
  },
  {
   "cell_type": "markdown",
   "metadata": {},
   "source": [
    "####  Northern Hemisphere - Max Temp vs. Latitude Linear Regression"
   ]
  },
  {
   "cell_type": "markdown",
   "metadata": {},
   "source": [
    "####  Southern Hemisphere - Max Temp vs. Latitude Linear Regression"
   ]
  },
  {
   "cell_type": "code",
   "execution_count": null,
   "metadata": {},
   "outputs": [],
   "source": [
    "mask4 = clean_df.latitude < 0\n",
    "south_df = clean_df.loc[mask4]\n",
    "south_df.info()"
   ]
  },
  {
   "cell_type": "code",
   "execution_count": null,
   "metadata": {},
   "outputs": [],
   "source": [
    "x_axis6 = south_df.latitude\n",
    "y_axis6 = south_df.Temperature \n",
    "plt.scatter(x_axis6, y_axis6)\n",
    "(slope, intercept, rvalue, pvalue, stderr) = linregress(x_axis6, y_axis6)\n",
    "regress_values = x_axis6 * slope + intercept\n",
    "line_eq = \"y = \" + str(round(slope,2)) + \"x + \" + str(round(intercept,2))\n",
    "\n",
    "plt.plot(x_axis6,regress_values,\"r-\")\n",
    "plt.annotate(line_eq,(-50,30),fontsize=15,color=\"red\")\n",
    "plt.xlabel('Latitude')\n",
    "plt.ylabel('Temperature')\n",
    "plt.title(\"Temperature vs Southern Hemisphere Cities\")\n",
    "print(f\"The r-squared is: {rvalue**2}\")\n",
    "plt.savefig(\"regression_south_temp.png\")\n",
    "plt.show()"
   ]
  },
  {
   "cell_type": "code",
   "execution_count": null,
   "metadata": {},
   "outputs": [],
   "source": [
    "# As cities are nearer to the equator, the temperature is greater than those well south of the equator with a trio\n",
    "# of outliers approximately around the 30 degree south region."
   ]
  },
  {
   "cell_type": "markdown",
   "metadata": {},
   "source": [
    "####  Northern Hemisphere - Humidity (%) vs. Latitude Linear Regression"
   ]
  },
  {
   "cell_type": "code",
   "execution_count": null,
   "metadata": {},
   "outputs": [],
   "source": [
    "x_axis7 = north_df.latitude\n",
    "y_axis7 = north_df.Humidity \n",
    "plt.scatter(x_axis7, y_axis7)\n",
    "(slope, intercept, rvalue, pvalue, stderr) = linregress(x_axis7, y_axis7)\n",
    "regress_values = x_axis7 * slope + intercept\n",
    "line_eq = \"y = \" + str(round(slope,2)) + \"x + \" + str(round(intercept,2))\n",
    "\n",
    "plt.plot(x_axis7,regress_values,\"r-\")\n",
    "plt.annotate(line_eq,(40,40),fontsize=15,color=\"red\")\n",
    "plt.xlabel('Latitude')\n",
    "plt.ylabel('Humidity')\n",
    "plt.title(\"Humidity vs Northern Hemisphere Cities\")\n",
    "print(f\"The r-squared is: {rvalue**2}\")\n",
    "plt.savefig(\"regression_north_humidity.png\")\n",
    "plt.show()"
   ]
  },
  {
   "cell_type": "code",
   "execution_count": null,
   "metadata": {},
   "outputs": [],
   "source": [
    "# Humidity in northern hemisphere cities produces many in the significant humidity category. The further north the\n",
    "# city lies produces more consistency in the higher levels of humidity. A good proportion closer to the equator have \n",
    "# smaller humidity levels."
   ]
  },
  {
   "cell_type": "markdown",
   "metadata": {},
   "source": [
    "####  Southern Hemisphere - Humidity (%) vs. Latitude Linear Regression"
   ]
  },
  {
   "cell_type": "code",
   "execution_count": null,
   "metadata": {},
   "outputs": [],
   "source": [
    "x_axis8 = south_df.latitude\n",
    "y_axis8 = south_df.Humidity \n",
    "plt.scatter(x_axis8, y_axis8)\n",
    "(slope, intercept, rvalue, pvalue, stderr) = linregress(x_axis8, y_axis8)\n",
    "regress_values = x_axis8 * slope + intercept\n",
    "line_eq = \"y = \" + str(round(slope,2)) + \"x + \" + str(round(intercept,2))\n",
    "\n",
    "plt.plot(x_axis8,regress_values,\"r-\")\n",
    "plt.annotate(line_eq,(-30,40),fontsize=15,color=\"red\")\n",
    "plt.xlabel('Latitude')\n",
    "plt.ylabel('Humidity')\n",
    "plt.title(\"Humidity vs Southern Hemisphere Cities\")\n",
    "print(f\"The r-squared is: {rvalue**2}\")\n",
    "plt.savefig(\"regression_south_humditiy.png\")\n",
    "plt.show()"
   ]
  },
  {
   "cell_type": "code",
   "execution_count": null,
   "metadata": {},
   "outputs": [],
   "source": [
    "# Humidity in the southern hemisphere stays consistent throughout the latitudes, with a trio of noticeable outliers\n",
    "# between latitudes of -30 to -20."
   ]
  },
  {
   "cell_type": "markdown",
   "metadata": {},
   "source": [
    "####  Northern Hemisphere - Cloudiness (%) vs. Latitude Linear Regression"
   ]
  },
  {
   "cell_type": "code",
   "execution_count": null,
   "metadata": {},
   "outputs": [],
   "source": [
    "x_axis9 = north_df.latitude\n",
    "y_axis9 = north_df['Cloud Level'] \n",
    "plt.scatter(x_axis9, y_axis9)\n",
    "(slope, intercept, rvalue, pvalue, stderr) = linregress(x_axis9, y_axis9)\n",
    "regress_values = x_axis9 * slope + intercept\n",
    "line_eq = \"y = \" + str(round(slope,2)) + \"x + \" + str(round(intercept,2))\n",
    "\n",
    "plt.plot(x_axis9,regress_values,\"r-\")\n",
    "plt.annotate(line_eq,(40,40),fontsize=15,color=\"red\")\n",
    "plt.xlabel('Latitude')\n",
    "plt.ylabel('Cloud Level')\n",
    "plt.title(\"Cloudiness vs Northern Hemisphere Cities\")\n",
    "print(f\"The r-squared is: {rvalue**2}\")\n",
    "plt.savefig(\"regression_north_cloud.png\")\n",
    "plt.show()"
   ]
  },
  {
   "cell_type": "code",
   "execution_count": null,
   "metadata": {},
   "outputs": [],
   "source": [
    "# Cloud level in the nothern hemisphere is affected by those cities further north as there are many with a cloudiness\n",
    "# level at or near 100. This can be explained by those cities in region experiencing constant snowfall."
   ]
  },
  {
   "cell_type": "markdown",
   "metadata": {},
   "source": [
    "####  Southern Hemisphere - Cloudiness (%) vs. Latitude Linear Regression"
   ]
  },
  {
   "cell_type": "code",
   "execution_count": null,
   "metadata": {},
   "outputs": [],
   "source": [
    "x_axis10 = south_df.latitude\n",
    "y_axis10 = south_df[\"Cloud Level\"] \n",
    "plt.scatter(x_axis10, y_axis10)\n",
    "(slope, intercept, rvalue, pvalue, stderr) = linregress(x_axis10, y_axis10)\n",
    "regress_values = x_axis10 * slope + intercept\n",
    "line_eq = \"y = \" + str(round(slope,2)) + \"x + \" + str(round(intercept,2))\n",
    "\n",
    "plt.plot(x_axis10,regress_values,\"r-\")\n",
    "plt.annotate(line_eq,(-30,40),fontsize=15,color=\"red\")\n",
    "plt.xlabel('Latitude')\n",
    "plt.ylabel('Cloud Level')\n",
    "plt.title('Cloudiness vs Southern Hemisphere Cities')\n",
    "print(f\"The r-squared is: {rvalue**2}\")\n",
    "plt.savefig(\"regression_south_cloud.png\")\n",
    "plt.show()"
   ]
  },
  {
   "cell_type": "code",
   "execution_count": null,
   "metadata": {},
   "outputs": [],
   "source": [
    "# Oddly enough, the greater cloud levels currently trend towards cities near the equator. "
   ]
  },
  {
   "cell_type": "markdown",
   "metadata": {},
   "source": [
    "####  Northern Hemisphere - Wind Speed (mph) vs. Latitude Linear Regression"
   ]
  },
  {
   "cell_type": "code",
   "execution_count": null,
   "metadata": {},
   "outputs": [],
   "source": [
    "x_axis11 = north_df.latitude\n",
    "y_axis11 = north_df[\"Wind Speed\"] \n",
    "plt.scatter(x_axis11, y_axis11)\n",
    "(slope, intercept, rvalue, pvalue, stderr) = linregress(x_axis11, y_axis11)\n",
    "regress_values = x_axis11 * slope + intercept\n",
    "line_eq = \"y = \" + str(round(slope,2)) + \"x + \" + str(round(intercept,2))\n",
    "\n",
    "plt.plot(x_axis11,regress_values,\"r-\")\n",
    "plt.annotate(line_eq,(40,15),fontsize=15,color=\"red\")\n",
    "plt.xlabel('Latitude')\n",
    "plt.ylabel('Wind Speed')\n",
    "plt.title(\"Wind Speed vs Northern Hemisphere Cities\")\n",
    "print(f\"The r-squared is: {rvalue**2}\")\n",
    "plt.savefig(\"regression_north_wind.png\")\n",
    "plt.show()"
   ]
  },
  {
   "cell_type": "code",
   "execution_count": null,
   "metadata": {},
   "outputs": [],
   "source": [
    "# With the exception of outliers futher north, there is no relationship of wind speed and latitude."
   ]
  },
  {
   "cell_type": "markdown",
   "metadata": {},
   "source": [
    "####  Southern Hemisphere - Wind Speed (mph) vs. Latitude Linear Regression"
   ]
  },
  {
   "cell_type": "code",
   "execution_count": null,
   "metadata": {},
   "outputs": [],
   "source": [
    "x_axis12 = south_df.latitude\n",
    "y_axis12 = south_df[\"Wind Speed\"] \n",
    "plt.scatter(x_axis12, y_axis12)\n",
    "(slope, intercept, rvalue, pvalue, stderr) = linregress(x_axis12, y_axis12)\n",
    "regress_values = x_axis12 * slope + intercept\n",
    "line_eq = \"y = \" + str(round(slope,2)) + \"x + \" + str(round(intercept,2))\n",
    "\n",
    "plt.plot(x_axis12,regress_values,\"r-\")\n",
    "plt.annotate(line_eq,(-30,7),fontsize=15,color=\"red\")\n",
    "plt.xlabel('Latitude')\n",
    "plt.ylabel('Wind Speed')\n",
    "plt.title(\"Wind Speed vs Southern Hemisphere Cities\")\n",
    "print(f\"The r-squared is: {rvalue**2}\")\n",
    "plt.savefig(\"regression_south_wind.png\")\n",
    "plt.show()\n"
   ]
  },
  {
   "cell_type": "code",
   "execution_count": null,
   "metadata": {},
   "outputs": [],
   "source": [
    "# Wind speed also doesn't alter due to position south of the equator. Outliers are present, with those cities with \n",
    "# wind speeds at or above 10."
   ]
  }
 ],
 "metadata": {
  "anaconda-cloud": {},
  "kernel_info": {
   "name": "python3"
  },
  "kernelspec": {
   "display_name": "Python 3",
   "language": "python",
   "name": "python3"
  },
  "language_info": {
   "codemirror_mode": {
    "name": "ipython",
    "version": 3
   },
   "file_extension": ".py",
   "mimetype": "text/x-python",
   "name": "python",
   "nbconvert_exporter": "python",
   "pygments_lexer": "ipython3",
   "version": "3.8.8"
  },
  "latex_envs": {
   "LaTeX_envs_menu_present": true,
   "autoclose": false,
   "autocomplete": true,
   "bibliofile": "biblio.bib",
   "cite_by": "apalike",
   "current_citInitial": 1,
   "eqLabelWithNumbers": true,
   "eqNumInitial": 1,
   "hotkeys": {
    "equation": "Ctrl-E",
    "itemize": "Ctrl-I"
   },
   "labels_anchors": false,
   "latex_user_defs": false,
   "report_style_numbering": false,
   "user_envs_cfg": false
  },
  "nteract": {
   "version": "0.12.3"
  }
 },
 "nbformat": 4,
 "nbformat_minor": 2
}
