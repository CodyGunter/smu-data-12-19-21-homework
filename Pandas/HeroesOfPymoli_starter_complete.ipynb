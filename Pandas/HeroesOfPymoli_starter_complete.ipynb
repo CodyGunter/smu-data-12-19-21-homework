{
 "cells": [
  {
   "cell_type": "markdown",
   "metadata": {},
   "source": [
    "### Note\n",
    "* Instructions have been included for each segment. You do not have to follow them exactly, but they are included to help you think through the steps."
   ]
  },
  {
   "cell_type": "code",
   "execution_count": 39,
   "metadata": {},
   "outputs": [],
   "source": [
    "# Dependencies and Setup\n",
    "import pandas as pd\n",
    "\n",
    "# File to Load (Remember to Change These)\n",
    "file_to_load = \"Resources/purchase_data.csv\"\n",
    "\n",
    "# Read Purchasing File and store into Pandas data frame\n",
    "purchase_data = pd.read_csv(file_to_load)"
   ]
  },
  {
   "cell_type": "markdown",
   "metadata": {},
   "source": [
    "## Player Count"
   ]
  },
  {
   "cell_type": "markdown",
   "metadata": {},
   "source": [
    "* Display the total number of players\n"
   ]
  },
  {
   "cell_type": "code",
   "execution_count": 40,
   "metadata": {},
   "outputs": [
    {
     "data": {
      "text/html": [
       "<div>\n",
       "<style scoped>\n",
       "    .dataframe tbody tr th:only-of-type {\n",
       "        vertical-align: middle;\n",
       "    }\n",
       "\n",
       "    .dataframe tbody tr th {\n",
       "        vertical-align: top;\n",
       "    }\n",
       "\n",
       "    .dataframe thead th {\n",
       "        text-align: right;\n",
       "    }\n",
       "</style>\n",
       "<table border=\"1\" class=\"dataframe\">\n",
       "  <thead>\n",
       "    <tr style=\"text-align: right;\">\n",
       "      <th></th>\n",
       "      <th>Purchase ID</th>\n",
       "      <th>SN</th>\n",
       "      <th>Age</th>\n",
       "      <th>Gender</th>\n",
       "      <th>Item ID</th>\n",
       "      <th>Item Name</th>\n",
       "      <th>Price</th>\n",
       "    </tr>\n",
       "  </thead>\n",
       "  <tbody>\n",
       "    <tr>\n",
       "      <th>0</th>\n",
       "      <td>0</td>\n",
       "      <td>Lisim78</td>\n",
       "      <td>20</td>\n",
       "      <td>Male</td>\n",
       "      <td>108</td>\n",
       "      <td>Extraction, Quickblade Of Trembling Hands</td>\n",
       "      <td>3.53</td>\n",
       "    </tr>\n",
       "    <tr>\n",
       "      <th>1</th>\n",
       "      <td>1</td>\n",
       "      <td>Lisovynya38</td>\n",
       "      <td>40</td>\n",
       "      <td>Male</td>\n",
       "      <td>143</td>\n",
       "      <td>Frenzied Scimitar</td>\n",
       "      <td>1.56</td>\n",
       "    </tr>\n",
       "    <tr>\n",
       "      <th>2</th>\n",
       "      <td>2</td>\n",
       "      <td>Ithergue48</td>\n",
       "      <td>24</td>\n",
       "      <td>Male</td>\n",
       "      <td>92</td>\n",
       "      <td>Final Critic</td>\n",
       "      <td>4.88</td>\n",
       "    </tr>\n",
       "    <tr>\n",
       "      <th>3</th>\n",
       "      <td>3</td>\n",
       "      <td>Chamassasya86</td>\n",
       "      <td>24</td>\n",
       "      <td>Male</td>\n",
       "      <td>100</td>\n",
       "      <td>Blindscythe</td>\n",
       "      <td>3.27</td>\n",
       "    </tr>\n",
       "    <tr>\n",
       "      <th>4</th>\n",
       "      <td>4</td>\n",
       "      <td>Iskosia90</td>\n",
       "      <td>23</td>\n",
       "      <td>Male</td>\n",
       "      <td>131</td>\n",
       "      <td>Fury</td>\n",
       "      <td>1.44</td>\n",
       "    </tr>\n",
       "  </tbody>\n",
       "</table>\n",
       "</div>"
      ],
      "text/plain": [
       "   Purchase ID             SN  Age Gender  Item ID  \\\n",
       "0            0        Lisim78   20   Male      108   \n",
       "1            1    Lisovynya38   40   Male      143   \n",
       "2            2     Ithergue48   24   Male       92   \n",
       "3            3  Chamassasya86   24   Male      100   \n",
       "4            4      Iskosia90   23   Male      131   \n",
       "\n",
       "                                   Item Name  Price  \n",
       "0  Extraction, Quickblade Of Trembling Hands   3.53  \n",
       "1                          Frenzied Scimitar   1.56  \n",
       "2                               Final Critic   4.88  \n",
       "3                                Blindscythe   3.27  \n",
       "4                                       Fury   1.44  "
      ]
     },
     "execution_count": 40,
     "metadata": {},
     "output_type": "execute_result"
    }
   ],
   "source": [
    "purchase_data.head()"
   ]
  },
  {
   "cell_type": "code",
   "execution_count": 41,
   "metadata": {},
   "outputs": [
    {
     "name": "stdout",
     "output_type": "stream",
     "text": [
      "<class 'pandas.core.frame.DataFrame'>\n",
      "RangeIndex: 780 entries, 0 to 779\n",
      "Data columns (total 7 columns):\n",
      " #   Column       Non-Null Count  Dtype  \n",
      "---  ------       --------------  -----  \n",
      " 0   Purchase ID  780 non-null    int64  \n",
      " 1   SN           780 non-null    object \n",
      " 2   Age          780 non-null    int64  \n",
      " 3   Gender       780 non-null    object \n",
      " 4   Item ID      780 non-null    int64  \n",
      " 5   Item Name    780 non-null    object \n",
      " 6   Price        780 non-null    float64\n",
      "dtypes: float64(1), int64(3), object(3)\n",
      "memory usage: 42.8+ KB\n"
     ]
    }
   ],
   "source": [
    "purchase_data.info()"
   ]
  },
  {
   "cell_type": "code",
   "execution_count": 42,
   "metadata": {},
   "outputs": [
    {
     "data": {
      "text/plain": [
       "576"
      ]
     },
     "execution_count": 42,
     "metadata": {},
     "output_type": "execute_result"
    }
   ],
   "source": [
    "purchase_data.SN.nunique()\n"
   ]
  },
  {
   "cell_type": "code",
   "execution_count": 43,
   "metadata": {},
   "outputs": [
    {
     "data": {
      "text/html": [
       "<div>\n",
       "<style scoped>\n",
       "    .dataframe tbody tr th:only-of-type {\n",
       "        vertical-align: middle;\n",
       "    }\n",
       "\n",
       "    .dataframe tbody tr th {\n",
       "        vertical-align: top;\n",
       "    }\n",
       "\n",
       "    .dataframe thead th {\n",
       "        text-align: right;\n",
       "    }\n",
       "</style>\n",
       "<table border=\"1\" class=\"dataframe\">\n",
       "  <thead>\n",
       "    <tr style=\"text-align: right;\">\n",
       "      <th></th>\n",
       "      <th>Total Players</th>\n",
       "    </tr>\n",
       "  </thead>\n",
       "  <tbody>\n",
       "    <tr>\n",
       "      <th>0</th>\n",
       "      <td>576</td>\n",
       "    </tr>\n",
       "  </tbody>\n",
       "</table>\n",
       "</div>"
      ],
      "text/plain": [
       "   Total Players\n",
       "0            576"
      ]
     },
     "execution_count": 43,
     "metadata": {},
     "output_type": "execute_result"
    }
   ],
   "source": [
    "total_players = purchase_data.SN.nunique()\n",
    "\n",
    "player_summ = pd.DataFrame()\n",
    "player_summ[\"Total Players\"] = [total_players]\n",
    "player_summ"
   ]
  },
  {
   "cell_type": "markdown",
   "metadata": {},
   "source": [
    "## Purchasing Analysis (Total)"
   ]
  },
  {
   "cell_type": "markdown",
   "metadata": {},
   "source": [
    "* Run basic calculations to obtain number of unique items, average price, etc.\n",
    "\n",
    "\n",
    "* Create a summary data frame to hold the results\n",
    "\n",
    "\n",
    "* Optional: give the displayed data cleaner formatting\n",
    "\n",
    "\n",
    "* Display the summary data frame\n"
   ]
  },
  {
   "cell_type": "code",
   "execution_count": 44,
   "metadata": {},
   "outputs": [],
   "source": [
    "items = purchase_data[\"Item ID\"].nunique()\n",
    "avg_price = purchase_data[\"Price\"].mean()\n",
    "purchase_count = purchase_data[\"Purchase ID\"].count()\n",
    "revenue = purchase_data[\"Price\"].sum()\n",
    "\n",
    "\n",
    "summ_table2 = pd.DataFrame()\n",
    "summ_table2[\"Number of Unique Items\"] = [items]\n",
    "summ_table2[\"Average Price\"] = [avg_price]\n",
    "summ_table2[\"Number of Purchases\"] = [purchase_count]\n",
    "summ_table2[\"Total Revenue\"] = [revenue]\n",
    "\n",
    "summ3 = summ_table2.copy()"
   ]
  },
  {
   "cell_type": "code",
   "execution_count": 45,
   "metadata": {},
   "outputs": [
    {
     "data": {
      "text/html": [
       "<div>\n",
       "<style scoped>\n",
       "    .dataframe tbody tr th:only-of-type {\n",
       "        vertical-align: middle;\n",
       "    }\n",
       "\n",
       "    .dataframe tbody tr th {\n",
       "        vertical-align: top;\n",
       "    }\n",
       "\n",
       "    .dataframe thead th {\n",
       "        text-align: right;\n",
       "    }\n",
       "</style>\n",
       "<table border=\"1\" class=\"dataframe\">\n",
       "  <thead>\n",
       "    <tr style=\"text-align: right;\">\n",
       "      <th></th>\n",
       "      <th>Number of Unique Items</th>\n",
       "      <th>Average Price</th>\n",
       "      <th>Number of Purchases</th>\n",
       "      <th>Total Revenue</th>\n",
       "    </tr>\n",
       "  </thead>\n",
       "  <tbody>\n",
       "    <tr>\n",
       "      <th>0</th>\n",
       "      <td>179</td>\n",
       "      <td>$3.05</td>\n",
       "      <td>780</td>\n",
       "      <td>$2,379.77</td>\n",
       "    </tr>\n",
       "  </tbody>\n",
       "</table>\n",
       "</div>"
      ],
      "text/plain": [
       "   Number of Unique Items Average Price  Number of Purchases Total Revenue\n",
       "0                     179         $3.05                  780     $2,379.77"
      ]
     },
     "execution_count": 45,
     "metadata": {},
     "output_type": "execute_result"
    }
   ],
   "source": [
    "\n",
    "summ3[\"Average Price\"] = summ3[\"Average Price\"].map(\"${:.2f}\".format)\n",
    "\n",
    "summ3[\"Total Revenue\"] = summ3[\"Total Revenue\"].map(\"${0:,.2f}\".format)\n",
    "\n",
    "summ3"
   ]
  },
  {
   "cell_type": "markdown",
   "metadata": {},
   "source": [
    "## Gender Demographics"
   ]
  },
  {
   "cell_type": "markdown",
   "metadata": {},
   "source": [
    "* Percentage and Count of Male Players\n",
    "\n",
    "\n",
    "* Percentage and Count of Female Players\n",
    "\n",
    "\n",
    "* Percentage and Count of Other / Non-Disclosed\n",
    "\n",
    "\n"
   ]
  },
  {
   "cell_type": "code",
   "execution_count": 46,
   "metadata": {},
   "outputs": [
    {
     "data": {
      "text/html": [
       "<div>\n",
       "<style scoped>\n",
       "    .dataframe tbody tr th:only-of-type {\n",
       "        vertical-align: middle;\n",
       "    }\n",
       "\n",
       "    .dataframe tbody tr th {\n",
       "        vertical-align: top;\n",
       "    }\n",
       "\n",
       "    .dataframe thead th {\n",
       "        text-align: right;\n",
       "    }\n",
       "</style>\n",
       "<table border=\"1\" class=\"dataframe\">\n",
       "  <thead>\n",
       "    <tr style=\"text-align: right;\">\n",
       "      <th></th>\n",
       "      <th>SN</th>\n",
       "      <th>Age</th>\n",
       "      <th>Gender</th>\n",
       "    </tr>\n",
       "  </thead>\n",
       "  <tbody>\n",
       "    <tr>\n",
       "      <th>0</th>\n",
       "      <td>Lisim78</td>\n",
       "      <td>20</td>\n",
       "      <td>Male</td>\n",
       "    </tr>\n",
       "    <tr>\n",
       "      <th>1</th>\n",
       "      <td>Lisovynya38</td>\n",
       "      <td>40</td>\n",
       "      <td>Male</td>\n",
       "    </tr>\n",
       "    <tr>\n",
       "      <th>2</th>\n",
       "      <td>Ithergue48</td>\n",
       "      <td>24</td>\n",
       "      <td>Male</td>\n",
       "    </tr>\n",
       "    <tr>\n",
       "      <th>3</th>\n",
       "      <td>Chamassasya86</td>\n",
       "      <td>24</td>\n",
       "      <td>Male</td>\n",
       "    </tr>\n",
       "    <tr>\n",
       "      <th>4</th>\n",
       "      <td>Iskosia90</td>\n",
       "      <td>23</td>\n",
       "      <td>Male</td>\n",
       "    </tr>\n",
       "  </tbody>\n",
       "</table>\n",
       "</div>"
      ],
      "text/plain": [
       "              SN  Age Gender\n",
       "0        Lisim78   20   Male\n",
       "1    Lisovynya38   40   Male\n",
       "2     Ithergue48   24   Male\n",
       "3  Chamassasya86   24   Male\n",
       "4      Iskosia90   23   Male"
      ]
     },
     "execution_count": 46,
     "metadata": {},
     "output_type": "execute_result"
    }
   ],
   "source": [
    "cols = [\"SN\", \"Age\", \"Gender\"]\n",
    "\n",
    "gender = purchase_data.loc[:, cols]\n",
    "gender.head()"
   ]
  },
  {
   "cell_type": "code",
   "execution_count": 47,
   "metadata": {},
   "outputs": [
    {
     "name": "stdout",
     "output_type": "stream",
     "text": [
      "<class 'pandas.core.frame.DataFrame'>\n",
      "RangeIndex: 576 entries, 0 to 575\n",
      "Data columns (total 3 columns):\n",
      " #   Column  Non-Null Count  Dtype \n",
      "---  ------  --------------  ----- \n",
      " 0   SN      576 non-null    object\n",
      " 1   Age     576 non-null    int64 \n",
      " 2   Gender  576 non-null    object\n",
      "dtypes: int64(1), object(2)\n",
      "memory usage: 13.6+ KB\n"
     ]
    }
   ],
   "source": [
    "gender = gender.drop_duplicates().reset_index(drop=True)\n",
    "gender.info()"
   ]
  },
  {
   "cell_type": "code",
   "execution_count": 48,
   "metadata": {},
   "outputs": [
    {
     "data": {
      "text/plain": [
       "Gender\n",
       "Female                    81\n",
       "Male                     484\n",
       "Other / Non-Disclosed     11\n",
       "dtype: int64"
      ]
     },
     "execution_count": 48,
     "metadata": {},
     "output_type": "execute_result"
    }
   ],
   "source": [
    "gender.groupby(\"Gender\").size()"
   ]
  },
  {
   "cell_type": "code",
   "execution_count": 49,
   "metadata": {},
   "outputs": [],
   "source": [
    "gender_count = gender.Gender.value_counts()"
   ]
  },
  {
   "cell_type": "code",
   "execution_count": 50,
   "metadata": {},
   "outputs": [],
   "source": [
    "gender_perc = gender.Gender.value_counts() / len(gender)"
   ]
  },
  {
   "cell_type": "code",
   "execution_count": 51,
   "metadata": {},
   "outputs": [
    {
     "data": {
      "text/html": [
       "<style  type=\"text/css\" >\n",
       "</style><table id=\"T_6b689_\" ><thead>    <tr>        <th class=\"blank level0\" ></th>        <th class=\"col_heading level0 col0\" >Total Count</th>        <th class=\"col_heading level0 col1\" >Percentage of Players</th>    </tr></thead><tbody>\n",
       "                <tr>\n",
       "                        <th id=\"T_6b689_level0_row0\" class=\"row_heading level0 row0\" >Male</th>\n",
       "                        <td id=\"T_6b689_row0_col0\" class=\"data row0 col0\" >484</td>\n",
       "                        <td id=\"T_6b689_row0_col1\" class=\"data row0 col1\" >84.03%</td>\n",
       "            </tr>\n",
       "            <tr>\n",
       "                        <th id=\"T_6b689_level0_row1\" class=\"row_heading level0 row1\" >Female</th>\n",
       "                        <td id=\"T_6b689_row1_col0\" class=\"data row1 col0\" >81</td>\n",
       "                        <td id=\"T_6b689_row1_col1\" class=\"data row1 col1\" >14.06%</td>\n",
       "            </tr>\n",
       "            <tr>\n",
       "                        <th id=\"T_6b689_level0_row2\" class=\"row_heading level0 row2\" >Other / Non-Disclosed</th>\n",
       "                        <td id=\"T_6b689_row2_col0\" class=\"data row2 col0\" >11</td>\n",
       "                        <td id=\"T_6b689_row2_col1\" class=\"data row2 col1\" >1.91%</td>\n",
       "            </tr>\n",
       "    </tbody></table>"
      ],
      "text/plain": [
       "<pandas.io.formats.style.Styler at 0x7f9a3a9d1cd0>"
      ]
     },
     "execution_count": 51,
     "metadata": {},
     "output_type": "execute_result"
    }
   ],
   "source": [
    "gender_count = gender.Gender.value_counts()\n",
    "gender_perc = gender.Gender.value_counts() / len(gender)\n",
    "\n",
    "summ_table3 = pd.concat([gender_count, gender_perc], axis=1)\n",
    "summ_table3.columns = [\"Total Count\", \"Percentage of Players\"]\n",
    "\n",
    "#https://stackoverflow.com/questions/23981601/format-certain-floating-dataframe-columns-into-percentage-in-pandas/43058781\n",
    "summ_table3.style.format({\"Percentage of Players\": \"{:.2%}\"})"
   ]
  },
  {
   "cell_type": "markdown",
   "metadata": {},
   "source": [
    "\n",
    "## Purchasing Analysis (Gender)"
   ]
  },
  {
   "cell_type": "markdown",
   "metadata": {},
   "source": [
    "* Run basic calculations to obtain purchase count, avg. purchase price, avg. purchase total per person etc. by gender\n",
    "\n",
    "\n",
    "\n",
    "\n",
    "* Create a summary data frame to hold the results\n",
    "\n",
    "\n",
    "* Optional: give the displayed data cleaner formatting\n",
    "\n",
    "\n",
    "* Display the summary data frame"
   ]
  },
  {
   "cell_type": "code",
   "execution_count": 52,
   "metadata": {},
   "outputs": [
    {
     "data": {
      "text/html": [
       "<style  type=\"text/css\" >\n",
       "</style><table id=\"T_93433_\" ><thead>    <tr>        <th class=\"blank level0\" ></th>        <th class=\"col_heading level0 col0\" >Purchase Count</th>        <th class=\"col_heading level0 col1\" >Average Purchase Price</th>        <th class=\"col_heading level0 col2\" >Total Purchase Value</th>        <th class=\"col_heading level0 col3\" >Avg Total Purchase per Person</th>    </tr></thead><tbody>\n",
       "                <tr>\n",
       "                        <th id=\"T_93433_level0_row0\" class=\"row_heading level0 row0\" >Female</th>\n",
       "                        <td id=\"T_93433_row0_col0\" class=\"data row0 col0\" >113</td>\n",
       "                        <td id=\"T_93433_row0_col1\" class=\"data row0 col1\" >$3.20</td>\n",
       "                        <td id=\"T_93433_row0_col2\" class=\"data row0 col2\" >$361.94</td>\n",
       "                        <td id=\"T_93433_row0_col3\" class=\"data row0 col3\" >$4.47</td>\n",
       "            </tr>\n",
       "            <tr>\n",
       "                        <th id=\"T_93433_level0_row1\" class=\"row_heading level0 row1\" >Male</th>\n",
       "                        <td id=\"T_93433_row1_col0\" class=\"data row1 col0\" >652</td>\n",
       "                        <td id=\"T_93433_row1_col1\" class=\"data row1 col1\" >$3.02</td>\n",
       "                        <td id=\"T_93433_row1_col2\" class=\"data row1 col2\" >$1,967.64</td>\n",
       "                        <td id=\"T_93433_row1_col3\" class=\"data row1 col3\" >$4.07</td>\n",
       "            </tr>\n",
       "            <tr>\n",
       "                        <th id=\"T_93433_level0_row2\" class=\"row_heading level0 row2\" >Other / Non-Disclosed</th>\n",
       "                        <td id=\"T_93433_row2_col0\" class=\"data row2 col0\" >15</td>\n",
       "                        <td id=\"T_93433_row2_col1\" class=\"data row2 col1\" >$3.35</td>\n",
       "                        <td id=\"T_93433_row2_col2\" class=\"data row2 col2\" >$50.19</td>\n",
       "                        <td id=\"T_93433_row2_col3\" class=\"data row2 col3\" >$4.56</td>\n",
       "            </tr>\n",
       "    </tbody></table>"
      ],
      "text/plain": [
       "<pandas.io.formats.style.Styler at 0x7f9a397b4ee0>"
      ]
     },
     "execution_count": 52,
     "metadata": {},
     "output_type": "execute_result"
    }
   ],
   "source": [
    "gender_count = gender.Gender.value_counts()\n",
    "\n",
    "gend_purchase_ct = purchase_data.groupby(\"Gender\")[\"Purchase ID\"].count()\n",
    "avg_gend_price = purchase_data.groupby(\"Gender\")[\"Price\"].mean()\n",
    "tot_gend_value = gend_purchase_ct * avg_gend_price\n",
    "avg_total_ind = tot_gend_value / gender_count\n",
    "\n",
    "\n",
    "summ_table4 = pd.concat([gend_purchase_ct, avg_gend_price, tot_gend_value,\n",
    "                        avg_total_ind], axis=1)\n",
    "summ_table4.columns = [\"Purchase Count\", \"Average Purchase Price\", \n",
    "                       \"Total Purchase Value\", \"Avg Total Purchase per Person\"]\n",
    "\n",
    "#https://stackoverflow.com/questions/36626017/format-a-number-with-comma-separators-and-round-to-2-decimal-places-in-python-2\n",
    "summ_gend = summ_table4.style.format({\"Average Purchase Price\": \"${:.2f}\", \"Total Purchase Value\": \"${0:,.2f}\", \"Avg Total Purchase per Person\": \"${:.2f}\"})\n",
    "summ_gend\n",
    "\n"
   ]
  },
  {
   "cell_type": "markdown",
   "metadata": {},
   "source": [
    "## Age Demographics"
   ]
  },
  {
   "cell_type": "markdown",
   "metadata": {},
   "source": [
    "* Establish bins for ages\n",
    "\n",
    "\n",
    "* Categorize the existing players using the age bins. Hint: use pd.cut()\n",
    "\n",
    "\n",
    "* Calculate the numbers and percentages by age group\n",
    "\n",
    "\n",
    "* Create a summary data frame to hold the results\n",
    "\n",
    "\n",
    "* Optional: round the percentage column to two decimal points\n",
    "\n",
    "\n",
    "* Display Age Demographics Table\n"
   ]
  },
  {
   "cell_type": "code",
   "execution_count": 53,
   "metadata": {},
   "outputs": [
    {
     "data": {
      "text/plain": [
       "0    20-24\n",
       "1      40+\n",
       "2    20-24\n",
       "3    20-24\n",
       "4    20-24\n",
       "Name: Age, dtype: category\n",
       "Categories (8, object): ['<10' < '10-14' < '15-19' < '20-24' < '25-29' < '30-34' < '35-39' < '40+']"
      ]
     },
     "execution_count": 53,
     "metadata": {},
     "output_type": "execute_result"
    }
   ],
   "source": [
    "bins = [0, 9, 14, 19, 24, 29, 34, 39, 999]\n",
    "\n",
    "age_groups = [\"<10\", \"10-14\", \"15-19\", \"20-24\", \"25-29\", \"30-34\", \"35-39\", \"40+\"]\n",
    "\n",
    "pd.cut(purchase_data[\"Age\"], bins, labels=age_groups).head()"
   ]
  },
  {
   "cell_type": "code",
   "execution_count": 54,
   "metadata": {},
   "outputs": [
    {
     "data": {
      "text/html": [
       "<div>\n",
       "<style scoped>\n",
       "    .dataframe tbody tr th:only-of-type {\n",
       "        vertical-align: middle;\n",
       "    }\n",
       "\n",
       "    .dataframe tbody tr th {\n",
       "        vertical-align: top;\n",
       "    }\n",
       "\n",
       "    .dataframe thead th {\n",
       "        text-align: right;\n",
       "    }\n",
       "</style>\n",
       "<table border=\"1\" class=\"dataframe\">\n",
       "  <thead>\n",
       "    <tr style=\"text-align: right;\">\n",
       "      <th></th>\n",
       "      <th>SN</th>\n",
       "      <th>Age</th>\n",
       "      <th>Gender</th>\n",
       "      <th>Age Group</th>\n",
       "    </tr>\n",
       "  </thead>\n",
       "  <tbody>\n",
       "    <tr>\n",
       "      <th>0</th>\n",
       "      <td>Lisim78</td>\n",
       "      <td>20</td>\n",
       "      <td>Male</td>\n",
       "      <td>20-24</td>\n",
       "    </tr>\n",
       "    <tr>\n",
       "      <th>1</th>\n",
       "      <td>Lisovynya38</td>\n",
       "      <td>40</td>\n",
       "      <td>Male</td>\n",
       "      <td>40+</td>\n",
       "    </tr>\n",
       "    <tr>\n",
       "      <th>2</th>\n",
       "      <td>Ithergue48</td>\n",
       "      <td>24</td>\n",
       "      <td>Male</td>\n",
       "      <td>20-24</td>\n",
       "    </tr>\n",
       "    <tr>\n",
       "      <th>3</th>\n",
       "      <td>Chamassasya86</td>\n",
       "      <td>24</td>\n",
       "      <td>Male</td>\n",
       "      <td>20-24</td>\n",
       "    </tr>\n",
       "    <tr>\n",
       "      <th>4</th>\n",
       "      <td>Iskosia90</td>\n",
       "      <td>23</td>\n",
       "      <td>Male</td>\n",
       "      <td>20-24</td>\n",
       "    </tr>\n",
       "  </tbody>\n",
       "</table>\n",
       "</div>"
      ],
      "text/plain": [
       "              SN  Age Gender Age Group\n",
       "0        Lisim78   20   Male     20-24\n",
       "1    Lisovynya38   40   Male       40+\n",
       "2     Ithergue48   24   Male     20-24\n",
       "3  Chamassasya86   24   Male     20-24\n",
       "4      Iskosia90   23   Male     20-24"
      ]
     },
     "execution_count": 54,
     "metadata": {},
     "output_type": "execute_result"
    }
   ],
   "source": [
    "gender[\"Age Group\"] = pd.cut(gender[\"Age\"], bins, labels=age_groups)\n",
    "gender.head()"
   ]
  },
  {
   "cell_type": "code",
   "execution_count": 55,
   "metadata": {},
   "outputs": [
    {
     "data": {
      "text/html": [
       "<style  type=\"text/css\" >\n",
       "</style><table id=\"T_8aeae_\" ><thead>    <tr>        <th class=\"blank level0\" ></th>        <th class=\"col_heading level0 col0\" >Total Count</th>        <th class=\"col_heading level0 col1\" >Percentage of Players</th>    </tr>    <tr>        <th class=\"index_name level0\" >Age Group</th>        <th class=\"blank\" ></th>        <th class=\"blank\" ></th>    </tr></thead><tbody>\n",
       "                <tr>\n",
       "                        <th id=\"T_8aeae_level0_row0\" class=\"row_heading level0 row0\" ><10</th>\n",
       "                        <td id=\"T_8aeae_row0_col0\" class=\"data row0 col0\" >17</td>\n",
       "                        <td id=\"T_8aeae_row0_col1\" class=\"data row0 col1\" >2.95%</td>\n",
       "            </tr>\n",
       "            <tr>\n",
       "                        <th id=\"T_8aeae_level0_row1\" class=\"row_heading level0 row1\" >10-14</th>\n",
       "                        <td id=\"T_8aeae_row1_col0\" class=\"data row1 col0\" >22</td>\n",
       "                        <td id=\"T_8aeae_row1_col1\" class=\"data row1 col1\" >3.82%</td>\n",
       "            </tr>\n",
       "            <tr>\n",
       "                        <th id=\"T_8aeae_level0_row2\" class=\"row_heading level0 row2\" >15-19</th>\n",
       "                        <td id=\"T_8aeae_row2_col0\" class=\"data row2 col0\" >107</td>\n",
       "                        <td id=\"T_8aeae_row2_col1\" class=\"data row2 col1\" >18.58%</td>\n",
       "            </tr>\n",
       "            <tr>\n",
       "                        <th id=\"T_8aeae_level0_row3\" class=\"row_heading level0 row3\" >20-24</th>\n",
       "                        <td id=\"T_8aeae_row3_col0\" class=\"data row3 col0\" >258</td>\n",
       "                        <td id=\"T_8aeae_row3_col1\" class=\"data row3 col1\" >44.79%</td>\n",
       "            </tr>\n",
       "            <tr>\n",
       "                        <th id=\"T_8aeae_level0_row4\" class=\"row_heading level0 row4\" >25-29</th>\n",
       "                        <td id=\"T_8aeae_row4_col0\" class=\"data row4 col0\" >77</td>\n",
       "                        <td id=\"T_8aeae_row4_col1\" class=\"data row4 col1\" >13.37%</td>\n",
       "            </tr>\n",
       "            <tr>\n",
       "                        <th id=\"T_8aeae_level0_row5\" class=\"row_heading level0 row5\" >30-34</th>\n",
       "                        <td id=\"T_8aeae_row5_col0\" class=\"data row5 col0\" >52</td>\n",
       "                        <td id=\"T_8aeae_row5_col1\" class=\"data row5 col1\" >9.03%</td>\n",
       "            </tr>\n",
       "            <tr>\n",
       "                        <th id=\"T_8aeae_level0_row6\" class=\"row_heading level0 row6\" >35-39</th>\n",
       "                        <td id=\"T_8aeae_row6_col0\" class=\"data row6 col0\" >31</td>\n",
       "                        <td id=\"T_8aeae_row6_col1\" class=\"data row6 col1\" >5.38%</td>\n",
       "            </tr>\n",
       "            <tr>\n",
       "                        <th id=\"T_8aeae_level0_row7\" class=\"row_heading level0 row7\" >40+</th>\n",
       "                        <td id=\"T_8aeae_row7_col0\" class=\"data row7 col0\" >12</td>\n",
       "                        <td id=\"T_8aeae_row7_col1\" class=\"data row7 col1\" >2.08%</td>\n",
       "            </tr>\n",
       "    </tbody></table>"
      ],
      "text/plain": [
       "<pandas.io.formats.style.Styler at 0x7f9a397b46a0>"
      ]
     },
     "execution_count": 55,
     "metadata": {},
     "output_type": "execute_result"
    }
   ],
   "source": [
    "purchase_group = gender.groupby(\"Age Group\")\n",
    "\n",
    "age_total = purchase_group[\"Age Group\"].count()\n",
    "age_perc = age_total / total_players\n",
    "\n",
    "summ_table_age = pd.concat([age_total, age_perc], axis=1)\n",
    "summ_table_age.columns = [\"Total Count\", \"Percentage of Players\"]\n",
    "summ_table_age2 = summ_table_age.style.format({\"Percentage of Players\":\"{:.2%}\"})\n",
    "summ_table_age2\n"
   ]
  },
  {
   "cell_type": "markdown",
   "metadata": {},
   "source": [
    "## Purchasing Analysis (Age)"
   ]
  },
  {
   "cell_type": "markdown",
   "metadata": {},
   "source": [
    "* Bin the purchase_data data frame by age\n",
    "\n",
    "\n",
    "* Run basic calculations to obtain purchase count, avg. purchase price, avg. purchase total per person etc. in the table below\n",
    "\n",
    "\n",
    "* Create a summary data frame to hold the results\n",
    "\n",
    "\n",
    "* Optional: give the displayed data cleaner formatting\n",
    "\n",
    "\n",
    "* Display the summary data frame"
   ]
  },
  {
   "cell_type": "code",
   "execution_count": 56,
   "metadata": {},
   "outputs": [
    {
     "data": {
      "text/html": [
       "<div>\n",
       "<style scoped>\n",
       "    .dataframe tbody tr th:only-of-type {\n",
       "        vertical-align: middle;\n",
       "    }\n",
       "\n",
       "    .dataframe tbody tr th {\n",
       "        vertical-align: top;\n",
       "    }\n",
       "\n",
       "    .dataframe thead th {\n",
       "        text-align: right;\n",
       "    }\n",
       "</style>\n",
       "<table border=\"1\" class=\"dataframe\">\n",
       "  <thead>\n",
       "    <tr style=\"text-align: right;\">\n",
       "      <th></th>\n",
       "      <th>SN</th>\n",
       "      <th>Age</th>\n",
       "      <th>Price</th>\n",
       "      <th>Age Group</th>\n",
       "    </tr>\n",
       "  </thead>\n",
       "  <tbody>\n",
       "    <tr>\n",
       "      <th>0</th>\n",
       "      <td>Lisim78</td>\n",
       "      <td>20</td>\n",
       "      <td>3.53</td>\n",
       "      <td>20-24</td>\n",
       "    </tr>\n",
       "    <tr>\n",
       "      <th>1</th>\n",
       "      <td>Lisovynya38</td>\n",
       "      <td>40</td>\n",
       "      <td>1.56</td>\n",
       "      <td>40+</td>\n",
       "    </tr>\n",
       "    <tr>\n",
       "      <th>2</th>\n",
       "      <td>Ithergue48</td>\n",
       "      <td>24</td>\n",
       "      <td>4.88</td>\n",
       "      <td>20-24</td>\n",
       "    </tr>\n",
       "    <tr>\n",
       "      <th>3</th>\n",
       "      <td>Chamassasya86</td>\n",
       "      <td>24</td>\n",
       "      <td>3.27</td>\n",
       "      <td>20-24</td>\n",
       "    </tr>\n",
       "    <tr>\n",
       "      <th>4</th>\n",
       "      <td>Iskosia90</td>\n",
       "      <td>23</td>\n",
       "      <td>1.44</td>\n",
       "      <td>20-24</td>\n",
       "    </tr>\n",
       "    <tr>\n",
       "      <th>...</th>\n",
       "      <td>...</td>\n",
       "      <td>...</td>\n",
       "      <td>...</td>\n",
       "      <td>...</td>\n",
       "    </tr>\n",
       "    <tr>\n",
       "      <th>775</th>\n",
       "      <td>Aethedru70</td>\n",
       "      <td>21</td>\n",
       "      <td>3.54</td>\n",
       "      <td>20-24</td>\n",
       "    </tr>\n",
       "    <tr>\n",
       "      <th>776</th>\n",
       "      <td>Iral74</td>\n",
       "      <td>21</td>\n",
       "      <td>1.63</td>\n",
       "      <td>20-24</td>\n",
       "    </tr>\n",
       "    <tr>\n",
       "      <th>777</th>\n",
       "      <td>Yathecal72</td>\n",
       "      <td>20</td>\n",
       "      <td>3.46</td>\n",
       "      <td>20-24</td>\n",
       "    </tr>\n",
       "    <tr>\n",
       "      <th>778</th>\n",
       "      <td>Sisur91</td>\n",
       "      <td>7</td>\n",
       "      <td>4.19</td>\n",
       "      <td>&lt;10</td>\n",
       "    </tr>\n",
       "    <tr>\n",
       "      <th>779</th>\n",
       "      <td>Ennrian78</td>\n",
       "      <td>24</td>\n",
       "      <td>4.60</td>\n",
       "      <td>20-24</td>\n",
       "    </tr>\n",
       "  </tbody>\n",
       "</table>\n",
       "<p>780 rows × 4 columns</p>\n",
       "</div>"
      ],
      "text/plain": [
       "                SN  Age  Price Age Group\n",
       "0          Lisim78   20   3.53     20-24\n",
       "1      Lisovynya38   40   1.56       40+\n",
       "2       Ithergue48   24   4.88     20-24\n",
       "3    Chamassasya86   24   3.27     20-24\n",
       "4        Iskosia90   23   1.44     20-24\n",
       "..             ...  ...    ...       ...\n",
       "775     Aethedru70   21   3.54     20-24\n",
       "776         Iral74   21   1.63     20-24\n",
       "777     Yathecal72   20   3.46     20-24\n",
       "778        Sisur91    7   4.19       <10\n",
       "779      Ennrian78   24   4.60     20-24\n",
       "\n",
       "[780 rows x 4 columns]"
      ]
     },
     "execution_count": 56,
     "metadata": {},
     "output_type": "execute_result"
    }
   ],
   "source": [
    "purchase_data[\"Age Group\"] = pd.cut(purchase_data[\"Age\"], bins, labels=age_groups)\n",
    "columns = [\"SN\", \"Age\", \"Price\", \"Age Group\"]\n",
    "purchase_data_cut = purchase_data.loc[:, columns]\n",
    "\n",
    "purchase_data_cut"
   ]
  },
  {
   "cell_type": "code",
   "execution_count": 63,
   "metadata": {
    "scrolled": true
   },
   "outputs": [
    {
     "data": {
      "text/html": [
       "<style  type=\"text/css\" >\n",
       "</style><table id=\"T_dda69_\" ><thead>    <tr>        <th class=\"blank level0\" ></th>        <th class=\"col_heading level0 col0\" >Purchase Count</th>        <th class=\"col_heading level0 col1\" >Average Purchase Price</th>        <th class=\"col_heading level0 col2\" >Total Purchase Value</th>        <th class=\"col_heading level0 col3\" >Avg Total Purchase per Person</th>    </tr>    <tr>        <th class=\"index_name level0\" >Age Group</th>        <th class=\"blank\" ></th>        <th class=\"blank\" ></th>        <th class=\"blank\" ></th>        <th class=\"blank\" ></th>    </tr></thead><tbody>\n",
       "                <tr>\n",
       "                        <th id=\"T_dda69_level0_row0\" class=\"row_heading level0 row0\" ><10</th>\n",
       "                        <td id=\"T_dda69_row0_col0\" class=\"data row0 col0\" >23</td>\n",
       "                        <td id=\"T_dda69_row0_col1\" class=\"data row0 col1\" >$3.35</td>\n",
       "                        <td id=\"T_dda69_row0_col2\" class=\"data row0 col2\" >$77.13</td>\n",
       "                        <td id=\"T_dda69_row0_col3\" class=\"data row0 col3\" >$4.54</td>\n",
       "            </tr>\n",
       "            <tr>\n",
       "                        <th id=\"T_dda69_level0_row1\" class=\"row_heading level0 row1\" >10-14</th>\n",
       "                        <td id=\"T_dda69_row1_col0\" class=\"data row1 col0\" >28</td>\n",
       "                        <td id=\"T_dda69_row1_col1\" class=\"data row1 col1\" >$2.96</td>\n",
       "                        <td id=\"T_dda69_row1_col2\" class=\"data row1 col2\" >$82.78</td>\n",
       "                        <td id=\"T_dda69_row1_col3\" class=\"data row1 col3\" >$3.76</td>\n",
       "            </tr>\n",
       "            <tr>\n",
       "                        <th id=\"T_dda69_level0_row2\" class=\"row_heading level0 row2\" >15-19</th>\n",
       "                        <td id=\"T_dda69_row2_col0\" class=\"data row2 col0\" >136</td>\n",
       "                        <td id=\"T_dda69_row2_col1\" class=\"data row2 col1\" >$3.04</td>\n",
       "                        <td id=\"T_dda69_row2_col2\" class=\"data row2 col2\" >$412.89</td>\n",
       "                        <td id=\"T_dda69_row2_col3\" class=\"data row2 col3\" >$3.86</td>\n",
       "            </tr>\n",
       "            <tr>\n",
       "                        <th id=\"T_dda69_level0_row3\" class=\"row_heading level0 row3\" >20-24</th>\n",
       "                        <td id=\"T_dda69_row3_col0\" class=\"data row3 col0\" >365</td>\n",
       "                        <td id=\"T_dda69_row3_col1\" class=\"data row3 col1\" >$3.05</td>\n",
       "                        <td id=\"T_dda69_row3_col2\" class=\"data row3 col2\" >$1,114.06</td>\n",
       "                        <td id=\"T_dda69_row3_col3\" class=\"data row3 col3\" >$4.32</td>\n",
       "            </tr>\n",
       "            <tr>\n",
       "                        <th id=\"T_dda69_level0_row4\" class=\"row_heading level0 row4\" >25-29</th>\n",
       "                        <td id=\"T_dda69_row4_col0\" class=\"data row4 col0\" >101</td>\n",
       "                        <td id=\"T_dda69_row4_col1\" class=\"data row4 col1\" >$2.90</td>\n",
       "                        <td id=\"T_dda69_row4_col2\" class=\"data row4 col2\" >$293.00</td>\n",
       "                        <td id=\"T_dda69_row4_col3\" class=\"data row4 col3\" >$3.81</td>\n",
       "            </tr>\n",
       "            <tr>\n",
       "                        <th id=\"T_dda69_level0_row5\" class=\"row_heading level0 row5\" >30-34</th>\n",
       "                        <td id=\"T_dda69_row5_col0\" class=\"data row5 col0\" >73</td>\n",
       "                        <td id=\"T_dda69_row5_col1\" class=\"data row5 col1\" >$2.93</td>\n",
       "                        <td id=\"T_dda69_row5_col2\" class=\"data row5 col2\" >$214.00</td>\n",
       "                        <td id=\"T_dda69_row5_col3\" class=\"data row5 col3\" >$4.12</td>\n",
       "            </tr>\n",
       "            <tr>\n",
       "                        <th id=\"T_dda69_level0_row6\" class=\"row_heading level0 row6\" >35-39</th>\n",
       "                        <td id=\"T_dda69_row6_col0\" class=\"data row6 col0\" >41</td>\n",
       "                        <td id=\"T_dda69_row6_col1\" class=\"data row6 col1\" >$3.60</td>\n",
       "                        <td id=\"T_dda69_row6_col2\" class=\"data row6 col2\" >$147.67</td>\n",
       "                        <td id=\"T_dda69_row6_col3\" class=\"data row6 col3\" >$4.76</td>\n",
       "            </tr>\n",
       "            <tr>\n",
       "                        <th id=\"T_dda69_level0_row7\" class=\"row_heading level0 row7\" >40+</th>\n",
       "                        <td id=\"T_dda69_row7_col0\" class=\"data row7 col0\" >13</td>\n",
       "                        <td id=\"T_dda69_row7_col1\" class=\"data row7 col1\" >$2.94</td>\n",
       "                        <td id=\"T_dda69_row7_col2\" class=\"data row7 col2\" >$38.24</td>\n",
       "                        <td id=\"T_dda69_row7_col3\" class=\"data row7 col3\" >$3.19</td>\n",
       "            </tr>\n",
       "    </tbody></table>"
      ],
      "text/plain": [
       "<pandas.io.formats.style.Styler at 0x7f9a396eef70>"
      ]
     },
     "execution_count": 63,
     "metadata": {},
     "output_type": "execute_result"
    }
   ],
   "source": [
    "ind_purchase = purchase_data_cut.groupby(\"Age Group\")[\"SN\"].nunique()\n",
    "\n",
    "age_purchase = purchase_data_cut.groupby(\"Age Group\")[\"Age\"].count()\n",
    "avg_purchase_age = purchase_data_cut.groupby(\"Age Group\")[\"Price\"].mean()\n",
    "tot_purchase_age = purchase_data_cut.groupby(\"Age Group\")[\"Price\"].sum()\n",
    "avg_tot_age = tot_purchase_age / ind_purchase\n",
    "\n",
    "summ_table_demo = pd.concat([age_purchase, avg_purchase_age, tot_purchase_age,\n",
    "                            avg_tot_age], axis=1)\n",
    "summ_table_demo.columns = [\"Purchase Count\", \"Average Purchase Price\", \"Total Purchase Value\", \"Avg Total Purchase per Person\"]\n",
    "\n",
    "summ_bin = summ_table_demo.style.format({\"Average Purchase Price\":\"${:.2f}\", \"Total Purchase Value\": \"${0:,.2f}\", \"Avg Total Purchase per Person\": \"${:.2f}\"})\n",
    "summ_bin"
   ]
  },
  {
   "cell_type": "markdown",
   "metadata": {},
   "source": [
    "## Top Spenders"
   ]
  },
  {
   "cell_type": "markdown",
   "metadata": {},
   "source": [
    "* Run basic calculations to obtain the results in the table below\n",
    "\n",
    "\n",
    "* Create a summary data frame to hold the results\n",
    "\n",
    "\n",
    "* Sort the total purchase value column in descending order\n",
    "\n",
    "\n",
    "* Optional: give the displayed data cleaner formatting\n",
    "\n",
    "\n",
    "* Display a preview of the summary data frame\n",
    "\n"
   ]
  },
  {
   "cell_type": "code",
   "execution_count": 58,
   "metadata": {},
   "outputs": [
    {
     "data": {
      "text/html": [
       "<style  type=\"text/css\" >\n",
       "</style><table id=\"T_05f5d_\" ><thead>    <tr>        <th class=\"blank level0\" ></th>        <th class=\"col_heading level0 col0\" >Purchase Count</th>        <th class=\"col_heading level0 col1\" >Average Purchase Price</th>        <th class=\"col_heading level0 col2\" >Total Purchase Value</th>    </tr>    <tr>        <th class=\"index_name level0\" >SN</th>        <th class=\"blank\" ></th>        <th class=\"blank\" ></th>        <th class=\"blank\" ></th>    </tr></thead><tbody>\n",
       "                <tr>\n",
       "                        <th id=\"T_05f5d_level0_row0\" class=\"row_heading level0 row0\" >Lisosia93</th>\n",
       "                        <td id=\"T_05f5d_row0_col0\" class=\"data row0 col0\" >5</td>\n",
       "                        <td id=\"T_05f5d_row0_col1\" class=\"data row0 col1\" >$3.79</td>\n",
       "                        <td id=\"T_05f5d_row0_col2\" class=\"data row0 col2\" >$18.96</td>\n",
       "            </tr>\n",
       "            <tr>\n",
       "                        <th id=\"T_05f5d_level0_row1\" class=\"row_heading level0 row1\" >Idastidru52</th>\n",
       "                        <td id=\"T_05f5d_row1_col0\" class=\"data row1 col0\" >4</td>\n",
       "                        <td id=\"T_05f5d_row1_col1\" class=\"data row1 col1\" >$3.86</td>\n",
       "                        <td id=\"T_05f5d_row1_col2\" class=\"data row1 col2\" >$15.45</td>\n",
       "            </tr>\n",
       "            <tr>\n",
       "                        <th id=\"T_05f5d_level0_row2\" class=\"row_heading level0 row2\" >Chamjask73</th>\n",
       "                        <td id=\"T_05f5d_row2_col0\" class=\"data row2 col0\" >3</td>\n",
       "                        <td id=\"T_05f5d_row2_col1\" class=\"data row2 col1\" >$4.61</td>\n",
       "                        <td id=\"T_05f5d_row2_col2\" class=\"data row2 col2\" >$13.83</td>\n",
       "            </tr>\n",
       "            <tr>\n",
       "                        <th id=\"T_05f5d_level0_row3\" class=\"row_heading level0 row3\" >Iral74</th>\n",
       "                        <td id=\"T_05f5d_row3_col0\" class=\"data row3 col0\" >4</td>\n",
       "                        <td id=\"T_05f5d_row3_col1\" class=\"data row3 col1\" >$3.40</td>\n",
       "                        <td id=\"T_05f5d_row3_col2\" class=\"data row3 col2\" >$13.62</td>\n",
       "            </tr>\n",
       "            <tr>\n",
       "                        <th id=\"T_05f5d_level0_row4\" class=\"row_heading level0 row4\" >Iskadarya95</th>\n",
       "                        <td id=\"T_05f5d_row4_col0\" class=\"data row4 col0\" >3</td>\n",
       "                        <td id=\"T_05f5d_row4_col1\" class=\"data row4 col1\" >$4.37</td>\n",
       "                        <td id=\"T_05f5d_row4_col2\" class=\"data row4 col2\" >$13.10</td>\n",
       "            </tr>\n",
       "    </tbody></table>"
      ],
      "text/plain": [
       "<pandas.io.formats.style.Styler at 0x7f9a3a637d30>"
      ]
     },
     "execution_count": 58,
     "metadata": {},
     "output_type": "execute_result"
    }
   ],
   "source": [
    "tot_sum = purchase_data.groupby(\"SN\").Price.sum()\n",
    "purch_ct = purchase_data.groupby(\"SN\")[\"Purchase ID\"].count()\n",
    "avg_buy = tot_sum / purch_ct\n",
    "summ1 = pd.concat([purch_ct, avg_buy, tot_sum], axis=1).reset_index()\n",
    "summ1.columns = [\"SN\", \"Purchase Count\", \"Average Purchase Price\", \"Total Purchase Value\"]\n",
    "\n",
    "summ2 = summ1[[\"SN\", \"Purchase Count\", \"Average Purchase Price\", \"Total Purchase Value\"]]\n",
    "summ2 = summ1.set_index(\"SN\")\n",
    "summ_sn = summ2.sort_values(by=['Total Purchase Value'], ascending=False).head()\n",
    "\n",
    "summ_sn.style.format({\"Average Purchase Price\": \"${:.2f}\", \"Total Purchase Value\":\"${:.2f}\"})"
   ]
  },
  {
   "cell_type": "markdown",
   "metadata": {},
   "source": [
    "## Most Popular Items"
   ]
  },
  {
   "cell_type": "markdown",
   "metadata": {},
   "source": [
    "* Retrieve the Item ID, Item Name, and Item Price columns\n",
    "\n",
    "\n",
    "* Group by Item ID and Item Name. Perform calculations to obtain purchase count, average item price, and total purchase value\n",
    "\n",
    "\n",
    "* Create a summary data frame to hold the results\n",
    "\n",
    "\n",
    "* Sort the purchase count column in descending order\n",
    "\n",
    "\n",
    "* Optional: give the displayed data cleaner formatting\n",
    "\n",
    "\n",
    "* Display a preview of the summary data frame\n",
    "\n"
   ]
  },
  {
   "cell_type": "code",
   "execution_count": 59,
   "metadata": {},
   "outputs": [
    {
     "data": {
      "text/plain": [
       "Index(['Purchase ID', 'SN', 'Age', 'Gender', 'Item ID', 'Item Name', 'Price',\n",
       "       'Age Group'],\n",
       "      dtype='object')"
      ]
     },
     "execution_count": 59,
     "metadata": {},
     "output_type": "execute_result"
    }
   ],
   "source": [
    "purchase_data.columns"
   ]
  },
  {
   "cell_type": "code",
   "execution_count": 60,
   "metadata": {},
   "outputs": [
    {
     "data": {
      "text/html": [
       "<style  type=\"text/css\" >\n",
       "</style><table id=\"T_0bebc_\" ><thead>    <tr>        <th class=\"blank\" ></th>        <th class=\"blank level0\" ></th>        <th class=\"col_heading level0 col0\" >Purchase ID</th>        <th class=\"col_heading level0 col1\" >Price</th>        <th class=\"col_heading level0 col2\" >Total Purchase Value</th>    </tr>    <tr>        <th class=\"index_name level0\" >Item ID</th>        <th class=\"index_name level1\" >Item Name</th>        <th class=\"blank\" ></th>        <th class=\"blank\" ></th>        <th class=\"blank\" ></th>    </tr></thead><tbody>\n",
       "                <tr>\n",
       "                        <th id=\"T_0bebc_level0_row0\" class=\"row_heading level0 row0\" >92</th>\n",
       "                        <th id=\"T_0bebc_level1_row0\" class=\"row_heading level1 row0\" >Final Critic</th>\n",
       "                        <td id=\"T_0bebc_row0_col0\" class=\"data row0 col0\" >13</td>\n",
       "                        <td id=\"T_0bebc_row0_col1\" class=\"data row0 col1\" >$4.61</td>\n",
       "                        <td id=\"T_0bebc_row0_col2\" class=\"data row0 col2\" >$59.99</td>\n",
       "            </tr>\n",
       "            <tr>\n",
       "                        <th id=\"T_0bebc_level0_row1\" class=\"row_heading level0 row1\" >178</th>\n",
       "                        <th id=\"T_0bebc_level1_row1\" class=\"row_heading level1 row1\" >Oathbreaker, Last Hope of the Breaking Storm</th>\n",
       "                        <td id=\"T_0bebc_row1_col0\" class=\"data row1 col0\" >12</td>\n",
       "                        <td id=\"T_0bebc_row1_col1\" class=\"data row1 col1\" >$4.23</td>\n",
       "                        <td id=\"T_0bebc_row1_col2\" class=\"data row1 col2\" >$50.76</td>\n",
       "            </tr>\n",
       "            <tr>\n",
       "                        <th id=\"T_0bebc_level0_row2\" class=\"row_heading level0 row2\" >145</th>\n",
       "                        <th id=\"T_0bebc_level1_row2\" class=\"row_heading level1 row2\" >Fiery Glass Crusader</th>\n",
       "                        <td id=\"T_0bebc_row2_col0\" class=\"data row2 col0\" >9</td>\n",
       "                        <td id=\"T_0bebc_row2_col1\" class=\"data row2 col1\" >$4.58</td>\n",
       "                        <td id=\"T_0bebc_row2_col2\" class=\"data row2 col2\" >$41.22</td>\n",
       "            </tr>\n",
       "            <tr>\n",
       "                        <th id=\"T_0bebc_level0_row3\" class=\"row_heading level0 row3\" >132</th>\n",
       "                        <th id=\"T_0bebc_level1_row3\" class=\"row_heading level1 row3\" >Persuasion</th>\n",
       "                        <td id=\"T_0bebc_row3_col0\" class=\"data row3 col0\" >9</td>\n",
       "                        <td id=\"T_0bebc_row3_col1\" class=\"data row3 col1\" >$3.22</td>\n",
       "                        <td id=\"T_0bebc_row3_col2\" class=\"data row3 col2\" >$28.99</td>\n",
       "            </tr>\n",
       "            <tr>\n",
       "                        <th id=\"T_0bebc_level0_row4\" class=\"row_heading level0 row4\" >108</th>\n",
       "                        <th id=\"T_0bebc_level1_row4\" class=\"row_heading level1 row4\" >Extraction, Quickblade Of Trembling Hands</th>\n",
       "                        <td id=\"T_0bebc_row4_col0\" class=\"data row4 col0\" >9</td>\n",
       "                        <td id=\"T_0bebc_row4_col1\" class=\"data row4 col1\" >$3.53</td>\n",
       "                        <td id=\"T_0bebc_row4_col2\" class=\"data row4 col2\" >$31.77</td>\n",
       "            </tr>\n",
       "    </tbody></table>"
      ],
      "text/plain": [
       "<pandas.io.formats.style.Styler at 0x7f9a39749b20>"
      ]
     },
     "execution_count": 60,
     "metadata": {},
     "output_type": "execute_result"
    }
   ],
   "source": [
    "summ5 = purchase_data.groupby([\"Item ID\", \"Item Name\"]).agg({\"Purchase ID\": \"count\", \"Price\": \"mean\"})\n",
    "\n",
    "#https://www.kite.com/python/answers/how-to-multiply-two-pandas-dataframe-columns-in-python\n",
    "summ5[\"Total Purchase Value\"] = summ5[\"Purchase ID\"] * summ5[\"Price\"]\n",
    "\n",
    "\n",
    "summ_item = summ5.sort_values(by=['Purchase ID'], ascending=False).head()\n",
    "\n",
    "summ_item.style.format({\"Price\":\"${:.2f}\", \"Total Purchase Value\":\"${:.2f}\"})"
   ]
  },
  {
   "cell_type": "markdown",
   "metadata": {},
   "source": [
    "## Most Profitable Items"
   ]
  },
  {
   "cell_type": "markdown",
   "metadata": {},
   "source": [
    "* Sort the above table by total purchase value in descending order\n",
    "\n",
    "\n",
    "* Optional: give the displayed data cleaner formatting\n",
    "\n",
    "\n",
    "* Display a preview of the data frame\n",
    "\n"
   ]
  },
  {
   "cell_type": "code",
   "execution_count": 61,
   "metadata": {},
   "outputs": [
    {
     "data": {
      "text/html": [
       "<style  type=\"text/css\" >\n",
       "</style><table id=\"T_82f2b_\" ><thead>    <tr>        <th class=\"blank\" ></th>        <th class=\"blank level0\" ></th>        <th class=\"col_heading level0 col0\" >Purchase ID</th>        <th class=\"col_heading level0 col1\" >Price</th>        <th class=\"col_heading level0 col2\" >Total Purchase Value</th>    </tr>    <tr>        <th class=\"index_name level0\" >Item ID</th>        <th class=\"index_name level1\" >Item Name</th>        <th class=\"blank\" ></th>        <th class=\"blank\" ></th>        <th class=\"blank\" ></th>    </tr></thead><tbody>\n",
       "                <tr>\n",
       "                        <th id=\"T_82f2b_level0_row0\" class=\"row_heading level0 row0\" >92</th>\n",
       "                        <th id=\"T_82f2b_level1_row0\" class=\"row_heading level1 row0\" >Final Critic</th>\n",
       "                        <td id=\"T_82f2b_row0_col0\" class=\"data row0 col0\" >13</td>\n",
       "                        <td id=\"T_82f2b_row0_col1\" class=\"data row0 col1\" >$4.61</td>\n",
       "                        <td id=\"T_82f2b_row0_col2\" class=\"data row0 col2\" >$59.99</td>\n",
       "            </tr>\n",
       "            <tr>\n",
       "                        <th id=\"T_82f2b_level0_row1\" class=\"row_heading level0 row1\" >178</th>\n",
       "                        <th id=\"T_82f2b_level1_row1\" class=\"row_heading level1 row1\" >Oathbreaker, Last Hope of the Breaking Storm</th>\n",
       "                        <td id=\"T_82f2b_row1_col0\" class=\"data row1 col0\" >12</td>\n",
       "                        <td id=\"T_82f2b_row1_col1\" class=\"data row1 col1\" >$4.23</td>\n",
       "                        <td id=\"T_82f2b_row1_col2\" class=\"data row1 col2\" >$50.76</td>\n",
       "            </tr>\n",
       "            <tr>\n",
       "                        <th id=\"T_82f2b_level0_row2\" class=\"row_heading level0 row2\" >82</th>\n",
       "                        <th id=\"T_82f2b_level1_row2\" class=\"row_heading level1 row2\" >Nirvana</th>\n",
       "                        <td id=\"T_82f2b_row2_col0\" class=\"data row2 col0\" >9</td>\n",
       "                        <td id=\"T_82f2b_row2_col1\" class=\"data row2 col1\" >$4.90</td>\n",
       "                        <td id=\"T_82f2b_row2_col2\" class=\"data row2 col2\" >$44.10</td>\n",
       "            </tr>\n",
       "            <tr>\n",
       "                        <th id=\"T_82f2b_level0_row3\" class=\"row_heading level0 row3\" >145</th>\n",
       "                        <th id=\"T_82f2b_level1_row3\" class=\"row_heading level1 row3\" >Fiery Glass Crusader</th>\n",
       "                        <td id=\"T_82f2b_row3_col0\" class=\"data row3 col0\" >9</td>\n",
       "                        <td id=\"T_82f2b_row3_col1\" class=\"data row3 col1\" >$4.58</td>\n",
       "                        <td id=\"T_82f2b_row3_col2\" class=\"data row3 col2\" >$41.22</td>\n",
       "            </tr>\n",
       "            <tr>\n",
       "                        <th id=\"T_82f2b_level0_row4\" class=\"row_heading level0 row4\" >103</th>\n",
       "                        <th id=\"T_82f2b_level1_row4\" class=\"row_heading level1 row4\" >Singed Scalpel</th>\n",
       "                        <td id=\"T_82f2b_row4_col0\" class=\"data row4 col0\" >8</td>\n",
       "                        <td id=\"T_82f2b_row4_col1\" class=\"data row4 col1\" >$4.35</td>\n",
       "                        <td id=\"T_82f2b_row4_col2\" class=\"data row4 col2\" >$34.80</td>\n",
       "            </tr>\n",
       "    </tbody></table>"
      ],
      "text/plain": [
       "<pandas.io.formats.style.Styler at 0x7f9a3a9e6fd0>"
      ]
     },
     "execution_count": 61,
     "metadata": {},
     "output_type": "execute_result"
    }
   ],
   "source": [
    "summ_profit = summ5.sort_values(by=[\"Total Purchase Value\"], ascending=False).head()\n",
    "\n",
    "summ_profit.style.format({\"Price\":\"${:.2f}\", \"Total Purchase Value\":\"${:.2f}\"})"
   ]
  },
  {
   "cell_type": "code",
   "execution_count": null,
   "metadata": {},
   "outputs": [],
   "source": []
  }
 ],
 "metadata": {
  "anaconda-cloud": {},
  "kernel_info": {
   "name": "python3"
  },
  "kernelspec": {
   "display_name": "Python 3",
   "language": "python",
   "name": "python3"
  },
  "language_info": {
   "codemirror_mode": {
    "name": "ipython",
    "version": 3
   },
   "file_extension": ".py",
   "mimetype": "text/x-python",
   "name": "python",
   "nbconvert_exporter": "python",
   "pygments_lexer": "ipython3",
   "version": "3.8.8"
  },
  "latex_envs": {
   "LaTeX_envs_menu_present": true,
   "autoclose": false,
   "autocomplete": true,
   "bibliofile": "biblio.bib",
   "cite_by": "apalike",
   "current_citInitial": 1,
   "eqLabelWithNumbers": true,
   "eqNumInitial": 1,
   "hotkeys": {
    "equation": "Ctrl-E",
    "itemize": "Ctrl-I"
   },
   "labels_anchors": false,
   "latex_user_defs": false,
   "report_style_numbering": false,
   "user_envs_cfg": false
  },
  "nteract": {
   "version": "0.2.0"
  }
 },
 "nbformat": 4,
 "nbformat_minor": 2
}
